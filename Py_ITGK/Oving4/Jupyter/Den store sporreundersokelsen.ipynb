{
 "cells": [
  {
   "cell_type": "markdown",
   "metadata": {
    "run_control": {
     "frozen": true
    }
   },
   "source": [
    "<nav class=\"navbar navbar-default\">\n",
    "  <div class=\"container-fluid\">\n",
    "    <div class=\"navbar-header\">\n",
    "      <a class=\"navbar-brand\" href=\"_Oving4.ipynb\">Øving 4</a>\n",
    "    </div>\n",
    "    <ul class=\"nav navbar-nav\">\n",
    "        <li><a href=\"Grunnleggende%20om%20funksjoner.ipynb\">Grunnleggende om funksjoner</a></li>\n",
    "        <li><a href=\"Varierte%20funksjoner.ipynb\">Varierte funksjoner</a></li>\n",
    "        <li><a href=\"Lokale%20variabler.ipynb\">Lokale variabler</a></li>\n",
    "        <li><a href=\"Globale%20variabler.ipynb\">Globale variabler</a></li>\n",
    "        <li><a href=\"Euklids%20algoritme.ipynb\">Euklids algoritme</a></li>\n",
    "        <li><a href=\"Primtall.ipynb\">Primtall</a></li>\n",
    "        <li><a href=\"Multiplikasjon.ipynb\">Multiplikasjon</a></li>\n",
    "        <li><a href=\"Poenggrenser.ipynb\">Poenggrenser</a></li>\n",
    "        <li class=\"active\"><a href=\"Den%20store%20sporreundersokelsen.ipynb\">Den store spørreundersøkelsen</a></li>\n",
    "        <li><a href=\"Arbeidsdager.ipynb\">Arbeidsdager</a></li>\n",
    "        <li><a href=\"Sekantmetoden.ipynb\">Sekantmetoden</a></li>\n",
    "        <li><a href=\"Not%20quite%20Blackjack.ipynb\">Not quite Blackjack</a></li>\n",
    "    </ul>\n",
    "  </div>\n",
    "</nav>\n",
    "\n",
    "## Den store spørreundersøkelsen\n",
    "\n",
    "**Læringsmål:**\n",
    "\n",
    "* Funksjoner \n",
    "* Betingelser\n",
    "* Løkker\n",
    "* Numpy\n",
    " \n",
    "\n",
    "**I denne oppgaven skal du skrive et større program. For denne typen oppgaver kan det være mer praktisk å laste ned python og eventuelt en IDE (Et område man programmerer i på sin egen maskin). Ta derfor en kikk [her](https://docs.google.com/document/d/17tS0maWyzORUsIjmCVEszfqrl2X4By-Cy2Sw3ENG5lA/edit?usp=sharing) før du begynner. Det er fortsatt mulig å gjøre oppgaven i Jupyter dersom du ikke ønsker å jobbe lokalt**\n",
    " \n",
    "I denne oppgaven skal du implementere et lite utdrag av en spørreundersøkelse om leksevaner til studenter. Undersøkelsen er beregnet for kvinner og menn i aldersgruppen 16-25 år.\n",
    "\n",
    "Spørreundersøkelsen implementeres ved hjelp av å skrive ut spørsmål og lese input fra brukeren i en while-løkke som kjøres så lenge brukeren ønsker å skrive inn data. Når alle spørsmålene er besvart, gjentas spørsmålene for en ny person. \n",
    "\n",
    "Hold styr på global(e) teller(e) (variable(r)) under kjøringen av while-løkken: **antall_kvinner**, **antall_menn**, **antall_fag**, **antall_ITGK**, og **antall_timer_lekser**. Hvordan du holder styr på disse er opp til deg selv. Enten det er ved hjelp av fem variabler, eller ved hjelp av et _array_. Hvis brukeren til enhver tid svarer \"hade\" på et spørsmål skal while-løkken avsluttes og verdiene av tellerne skal oppdatere en tekstfil som allerede innheholder resultater fra en tidligere kjøring. Deretter skal både nye og gamle verdier skrives ut.\n",
    "\n",
    "I programmet ditt kan du få bruk for:"
   ]
  },
  {
   "cell_type": "code",
   "execution_count": null,
   "metadata": {},
   "outputs": [],
   "source": [
    "from sys import exit        #Du kan nå bruke funksjonen exit() i programmet ditt. Anbefales brukt i sjekk_svar-funksjonen."
   ]
  },
  {
   "cell_type": "markdown",
   "metadata": {
    "run_control": {
     "frozen": true
    }
   },
   "source": [
    "exit() vil avslutte kjøringen av programmet.\n",
    "\n",
    "Bruk funksjoner til å lese inn svar fra brukeren (de bør være forskjellige om brukeren skriver inn et tall eller en streng), og til å skrive ut statistikk til slutt (oppgave g).\n",
    "\n",
    "Funksjoner som kan implementeres i løpet av oppgaven er:\n",
    "\n",
    "`sjekk_svar(spm)`\n",
    "`les_streng(spm)`\n",
    "`les_ja_nei(spm)`\n",
    "`les_tall(spm)`\n",
    "`lagre_og_skriv_statistikk()`\n",
    "`les_statistikk()`\n",
    "`lagre_statistikk()`\n",
    "(Der spm er svaret på de forskjellige spørsmålene som skal stilles i while-løkken)\n",
    "\n",
    "Deloppgave a til e skal altså implementeres inni while-løkken."
   ]
  },
  {
   "cell_type": "markdown",
   "metadata": {},
   "source": [
    "I tillegg til `sys` vil du få bruk for `numpy`:"
   ]
  },
  {
   "cell_type": "code",
   "execution_count": null,
   "metadata": {},
   "outputs": [],
   "source": [
    "import numpy as np"
   ]
  },
  {
   "cell_type": "markdown",
   "metadata": {},
   "source": [
    "Under er det allredere skrevet en funksjon for deg, som du kan bruke for å lese inn tidligere resultater fra filen `Resultater.txt`. Innholdet i denne filen nå er `0, 0, 0, 0, 0, 0`, hvor tallene (i rekkefølge) representerer `antall_kvinner`, `antall_menn`, `antall_ib`, `antall_fag`, `antall_ITGK`, og `antall_timer_lekser`. Prøv å kjøre kodeblokken under for å se innholdet i filen. Eventuelt kan filen ses [her](./Resultater.txt)"
   ]
  },
  {
   "cell_type": "code",
   "execution_count": null,
   "metadata": {},
   "outputs": [],
   "source": [
    "def les_statistikk():\n",
    "    return np.loadtxt('Resultater.txt')\n",
    "\n",
    "les_statistikk()"
   ]
  },
  {
   "cell_type": "markdown",
   "metadata": {},
   "source": [
    "Når du skal lagre nye resultater, er det viktig at de tidligere resultatene ikke blir overskrevet. Du må derfor _først_ lese inn tidligere resultater, oppdatere arrayet som opprettes, oppdatere dette arrayet med de nye resultatene og til slutt lagre arrayet igjen."
   ]
  },
  {
   "cell_type": "code",
   "execution_count": null,
   "metadata": {},
   "outputs": [],
   "source": [
    "# du kan skrive all koden din i denne blokken dersom du ikke vil laste ned IDLE/Pycharm"
   ]
  },
  {
   "cell_type": "markdown",
   "metadata": {
    "run_control": {
     "frozen": true
    }
   },
   "source": [
    "**a)** Be brukeren skrive inn kjønn og alder. Med for eksempel ***f*** for kvinne, ***m*** for mann og ***ib*** for ikke-binær, lagre disse i variablene **kjonn** og **alder**.\n",
    "\n",
    "\n",
    "\n",
    "**b)** Sjekk om brukeren er innenfor tiltenkt aldersgruppe. Dersom brukeren er utenfor aldersgruppen, skriv en melding om at vedkommende ikke kan ta spørreundersøkelsen, og hopp tilbake til første spørsmål (kjønn).\n",
    "\n",
    "\n",
    "\n",
    "**c)** Dersom brukeren er innenfor tiltenkt aldersgruppe, spør om brukeren tar et **fag**, med svaralternativene ja og nei. Deretter lagres svaret som en variabel fag. Ta utgangspunkt i denne variabelen når du avgjør om brukeren trenger å svare på de neste to spørsmålene eller ikke. Om noe annet svares, skal spørsmålet gjentas til et gyldig svaralternativ er gitt. \n",
    "\n",
    "\n",
    "\n",
    "**d)** Du skal nå spørre om brukeren tar ITGK og lagre svaret som en variabel **medlem_ITGK**, men spørsmålsteksten skal variere ut ifra alderen på brukeren\n",
    "\n",
    "* Dersom brukeren er under 22 år skal spørsmålsteksten være: Tar du ITGK?\n",
    "* Ellers skal spørsmålsteksten være: Tar virkelig du ITGK?\n",
    "\n",
    "\n",
    "**e)** Spør brukeren hvor mange timer han/hun bruker i snitt daglig på lekser og lagre svaret i variabelen **timer_lekser**\n",
    "\n",
    "\n",
    "\n",
    "**f)** Endre programmet ditt slik at de globale tellerne nevnt tidligere i oppgaven blir inkrementert i deloppgavene a til e.\n",
    "\n",
    "\n",
    "\n",
    "**g)** Kjør programmet ditt, utfør noen undersøkelser, og avslutt ved å skrive hade. Sjekk at statistikken (verdiene av de globale tellerne) som skrives ut på slutten er korrekt. Sjekk også at tidligere resultater ikke blir borte. \n",
    "\n",
    "**h)** Kjør programmet ditt én gang til, og se at statistikken fra tidligere kjøring ikke blir overskrevet av den nye kjøringen.\n",
    "\n",
    "**Eksempel på kjøring:**\n",
    "\n",
    "```\n",
    "Velkommen til spørreundersøkelsen!\n",
    "\n",
    " Hvilket kjønn er du? [f/m]: f\n",
    " Hvor gammel er du?: 21\n",
    " Tar du et eller flere fag? [ja/nei ]: bleh\n",
    " Tar du et eller flere fag? [ja/nei ]: ja\n",
    " Tar du ITGK? [ja/nei]: ja\n",
    " Hvor mange timer bruker du daglig (i snitt) på lekser?: 2\n",
    "\n",
    "Velkommen til spørreundersøkelsen!\n",
    "\n",
    " Hvilket kjønn er du? [f/m]: m\n",
    " Hvor gammel er du?: 28\n",
    "Du kan dessverre ikke ta denne undersøkelsen\n",
    "\n",
    "Velkommen til spørreundersøkelsen!\n",
    "\n",
    " Hvilket kjønn er du? [f/m]: m\n",
    " Hvor gammel er du?: 25\n",
    " Tar du et eller flere fag? [ja/nei ]: ja\n",
    " Tar du virkelig ITGK?: nei\n",
    " Hvor mange timer bruker du daglig (i snitt) på lekser?: 5\n",
    "\n",
    "Velkommen til spørreundersøkelsen!\n",
    "\n",
    " Hvilket kjønn er du? [f/m]: hade\n",
    "\n",
    "Resultat av undersøkelse!\n",
    "Antall nye kvinner: 1.0. Totalt antall kvinner: 1.0\n",
    "Antall nye menn: 1.0. Totalt antall menn: 1.0\n",
    "Antall nye ikke-binære: 1.0. Totalt antall ikke-binære: 1.0\n",
    "Antall nye personer som tar fag: 2.0. Totalt antall personer som tar fag: 2.0\n",
    "Antall nye personer som tar ITGK: 1.0. Totalt antall personer som tar ITGK: 1.0\n",
    "Antall timer i snitt brukt på lekser denne undersøkelsen: 7.0\n",
    "Antall timer i snitt brukt på lekser totalt: 7.0\n",
    " \n",
    " \n",
    "################### NY KJØRING AV KODE ###################\n",
    "\n",
    "Velkommen til spørreundersøkelsen!\n",
    "\n",
    " Hvilket kjønn er du? [f/m]: m\n",
    " Hvor gammel er du?: 23\n",
    " Tar du et eller flere fag? [ja/nei ]: ja\n",
    " Tar du virkelig ITGK?: ja\n",
    " Hvor mange timer bruker du daglig (i snitt) på lekser?: 8\n",
    "\n",
    "Velkommen til spørreundersøkelsen!\n",
    "\n",
    " Hvilket kjønn er du? [f/m]: hade\n",
    "\n",
    "Resultat av undersøkelse!\n",
    "Antall nye kvinner: 0.0. Totalt antall kvinner: 1.0\n",
    "Antall nye menn: 1.0. Totalt antall menn: 2.0\n",
    "Antall nye ikke-binære: 1.0. Totalt antall ikke-binære: 1.0\n",
    "Antall nye personer som tar fag: 1.0. Totalt antall personer som tar fag: 3.0\n",
    "Antall nye personer som tar ITGK: 1.0. Totalt antall personer som tar ITGK: 2.0\n",
    "Antall timer i snitt brukt på lekser denne undersøkelsen: 8.0\n",
    "Antall timer i snitt brukt på lekser totalt: 7.5\n",
    " ```\n"
   ]
  },
  {
   "cell_type": "markdown",
   "metadata": {},
   "source": [
    "## i) Plotting av resultater "
   ]
  },
  {
   "cell_type": "markdown",
   "metadata": {},
   "source": [
    "Lag funksjonen `plot_resultater()` som plotter et barchart av resultatene. Av barchartet skal det fremgå hvor mange kvinner, menn og ikke-binære som har svart på undersøkelsen, antall personer som tar fag og antall personer som tar ITGK.\n",
    "\n",
    "Husk å importere `matplotlib`.\n",
    "\n",
    "***Skriv koden din i kodeblokken under***"
   ]
  },
  {
   "cell_type": "code",
   "execution_count": null,
   "metadata": {},
   "outputs": [],
   "source": [
    "# Skriv koden din her"
   ]
  },
  {
   "cell_type": "markdown",
   "metadata": {},
   "source": [
    "Eksepmel på hvordan plottet kan se ut:\n",
    "\n",
    "![img](../../Resources/Images/den_store_sporreundersokelsen.png)"
   ]
  }
 ],
 "metadata": {
  "celltoolbar": "Edit Metadata",
  "kernelspec": {
   "display_name": "Python 3.10.7 64-bit",
   "language": "python",
   "name": "python3"
  },
  "language_info": {
   "codemirror_mode": {
    "name": "ipython",
    "version": 3
   },
   "file_extension": ".py",
   "mimetype": "text/x-python",
   "name": "python",
   "nbconvert_exporter": "python",
   "pygments_lexer": "ipython3",
   "version": "3.10.7"
  },
  "vscode": {
   "interpreter": {
    "hash": "b14628d91c3e55915ef1ae2af76778e34b61f466acd3b9e48ae02c097ad54335"
   }
  }
 },
 "nbformat": 4,
 "nbformat_minor": 2
}
