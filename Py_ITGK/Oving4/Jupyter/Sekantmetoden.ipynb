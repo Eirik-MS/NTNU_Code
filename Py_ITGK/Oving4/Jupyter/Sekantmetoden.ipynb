{
 "cells": [
  {
   "cell_type": "markdown",
   "metadata": {
    "run_control": {
     "frozen": true
    }
   },
   "source": [
    "<nav class=\"navbar navbar-default\">\n",
    "  <div class=\"container-fluid\">\n",
    "    <div class=\"navbar-header\">\n",
    "      <a class=\"navbar-brand\" href=\"_Oving4.ipynb\">Øving 4</a>\n",
    "    </div>\n",
    "    <ul class=\"nav navbar-nav\">\n",
    "        <li><a href=\"Grunnleggende%20om%20funksjoner.ipynb\">Grunnleggende om funksjoner</a></li>\n",
    "        <li><a href=\"Varierte%20funksjoner.ipynb\">Varierte funksjoner</a></li>\n",
    "        <li><a href=\"Lokale%20variabler.ipynb\">Lokale variabler</a></li>\n",
    "        <li><a href=\"Globale%20variabler.ipynb\">Globale variabler</a></li>\n",
    "        <li><a href=\"Euklids%20algoritme.ipynb\">Euklids algoritme</a></li>\n",
    "        <li><a href=\"Primtall.ipynb\">Primtall</a></li>\n",
    "        <li><a href=\"Multiplikasjon.ipynb\">Multiplikasjon</a></li>\n",
    "        <li><a href=\"Poenggrenser.ipynb\">Poenggrenser</a></li>\n",
    "        <li><a href=\"Den%20store%20sporreundersokelsen.ipynb\">Den store spørreundersøkelsen</a></li>\n",
    "        <li><a href=\"Arbeidsdager.ipynb\">Arbeidsdager</a></li>\n",
    "        <li class=\"active\"><a href=\"Sekantmetoden.ipynb\">Sekantmetoden</a></li>\n",
    "        <li><a href=\"Not%20quite%20Blackjack.ipynb\">Not quite Blackjack</a></li>\n",
    "    </ul>\n",
    "  </div>\n",
    "</nav>\n",
    "\n",
    "# Sekantmetoden\n",
    "\n",
    "**Læringsmål:**\n",
    "- Funksjoner\n",
    "- Løkker\n",
    "\n",
    "I denne oppgaven skal vi implementere Sekantmetoden i Python.\n",
    "\n",
    "Sekantmetoden kan benyttes for å finne nullpunkt til en matematisk funksjon. En matematisk funksjon har et nullpunkt der $f(x) = 0$, dvs. at grafen krysser x-aksen. \n",
    "\n",
    "Sekantmetoden er gitt ved:\n",
    "\n",
    "$x_{k+1}=x_k-f(x_k)\\frac{x_k-x_{k-1}}{f(x_k)-f(x_{k-1})}$\n"
   ]
  },
  {
   "cell_type": "markdown",
   "metadata": {
    "deletable": false,
    "editable": false,
    "heading_collapsed": true,
    "run_control": {
     "frozen": true
    }
   },
   "source": [
    "## a)"
   ]
  },
  {
   "cell_type": "markdown",
   "metadata": {
    "hidden": true,
    "run_control": {
     "frozen": true
    }
   },
   "source": [
    "Lag en funksjon `f` som tar inn et tall `x` som argument og returnerer verdien til\n",
    "\n",
    "$f(x)=(x-12)e^{x/2}-8(x+2)^{2}$, hvor $e$ er Eulers tall.\n",
    "\n",
    "og en annen funksjon `g` som tar inn `x` som argument og returnerer verdien til\n",
    "\n",
    "$g(x)=-x-2x^{2}-5x^{3}+6x^{4}$\n",
    "\n",
    "***Skriv koden din i kodeblokken under***"
   ]
  },
  {
   "cell_type": "code",
   "execution_count": null,
   "metadata": {
    "hidden": true
   },
   "outputs": [],
   "source": [
    "# Skriv koden din her"
   ]
  },
  {
   "cell_type": "markdown",
   "metadata": {
    "deletable": false,
    "editable": false,
    "hidden": true,
    "run_control": {
     "frozen": true
    }
   },
   "source": [
    "Test også koden din med et par verdier. Du kan for eksempel sjekke at `f(0)` returnerer `-44` og at `g(1)` returnerer `-2`."
   ]
  },
  {
   "cell_type": "markdown",
   "metadata": {
    "heading_collapsed": true,
    "hidden": true
   },
   "source": [
    "### Hint:"
   ]
  },
  {
   "cell_type": "markdown",
   "metadata": {
    "hidden": true
   },
   "source": [
    "Eulers tall ($e$) er tilgjengelig som konstant i `numpy`; `np.e`. Numpy har i tillegg en funksjon for å kalkulere $e^x$; `np.exp(x)`"
   ]
  },
  {
   "cell_type": "markdown",
   "metadata": {
    "deletable": false,
    "editable": false,
    "heading_collapsed": true,
    "run_control": {
     "frozen": true
    }
   },
   "source": [
    "## b)"
   ]
  },
  {
   "cell_type": "markdown",
   "metadata": {
    "deletable": false,
    "editable": false,
    "hidden": true,
    "run_control": {
     "frozen": true
    }
   },
   "source": [
    "Sekantmetoden er en tilnærming av Newtons metode:\n",
    "\n",
    "$x_{k+1}=x_{k}-\\frac{f(x_{k})}{f'(x_{k})}$ hvor\n",
    "\n",
    "$f'(x_k) \\approx \\frac{f(x_{k})- f(x_{k-1})}{x_{k}-x_{k-1}}$\n",
    "\n",
    "Lag en funksjon `differentiate(x_k, x_k1, func)` som bruker formelen for den approksimerte (**f'(x)**) gitt i oppgaveteksten til å derivere. Funksjonen skal ta inn tre argumenter: `x_k`, `x_k1` og `func`, og returnere den deriverte (et flyttall):\n",
    "\n",
    "- `x_k`: punktet hvor vi ønsker å finne den deriverte\n",
    "- `x_k1`: et tidligere punkt som vi bruker for å finne stigningstall\n",
    "- `func`: funksjonen man ønsker å derivere (i denne oppgaven vil `func` alltid tilsvare enten `f` eller `g` fra **a)**)\n",
    "\n",
    "***Skriv koden i kodeblokken under***"
   ]
  },
  {
   "cell_type": "code",
   "execution_count": null,
   "metadata": {
    "hidden": true
   },
   "outputs": [],
   "source": [
    "# Skriv koden din her"
   ]
  },
  {
   "cell_type": "markdown",
   "metadata": {
    "deletable": false,
    "editable": false,
    "hidden": true,
    "run_control": {
     "frozen": true
    }
   },
   "source": [
    "For å teste funksjonen kan du kjør funksjonskallet `differentiate(9,10,f)`. dette skal returnere: -210.7749243035878"
   ]
  },
  {
   "cell_type": "markdown",
   "metadata": {
    "deletable": false,
    "editable": false,
    "heading_collapsed": true,
    "run_control": {
     "frozen": true
    }
   },
   "source": [
    "## c)"
   ]
  },
  {
   "cell_type": "markdown",
   "metadata": {
    "deletable": false,
    "editable": false,
    "hidden": true,
    "hide_input": true,
    "run_control": {
     "frozen": true
    }
   },
   "source": [
    "Lag en funksjon `secant_method(x0, x1, func, tol)` som benytter seg av `differentiate(x_k, x_k1, func)` til å utføre sekantmetoden. Funksjonen skal returnere verdien(/avslutte) når endringen i `x` er mindre enn toleransegrensen `tol`. \n",
    "\n",
    "Test funksjonen din med følgende verdier:\n",
    "```python\n",
    "secant_method(11,13,f,0.00001)\n",
    "secant_method(1,2,g,0.00001)\n",
    "secant_method(0,1,g,0.00001)\n",
    "```\n",
    "\n",
    "***Skriv koden i kodeblokken under***"
   ]
  },
  {
   "cell_type": "code",
   "execution_count": null,
   "metadata": {
    "hidden": true
   },
   "outputs": [],
   "source": [
    "# Skriv koden din her"
   ]
  },
  {
   "cell_type": "markdown",
   "metadata": {
    "deletable": false,
    "editable": false,
    "hidden": true,
    "run_control": {
     "frozen": true
    }
   },
   "source": [
    "**Eksempel på kjøring av kode:**\n",
    "```python\n",
    "Funksjonen nærmer seg et nullpunkt når x = 13.92 , da er f(x) =  -1.59e-06\n",
    "Funksjonen nærmer seg et nullpunkt når x =  1.22 , da er f(x) =  -9.66e-08\n",
    "Funksjonen nærmer seg et nullpunkt når x =  0.0  , da er f(x) =  0.0\n",
    "```"
   ]
  },
  {
   "cell_type": "markdown",
   "metadata": {
    "deletable": false,
    "editable": false,
    "heading_collapsed": true,
    "hidden": true,
    "run_control": {
     "frozen": true
    }
   },
   "source": [
    "#### Hint"
   ]
  },
  {
   "cell_type": "markdown",
   "metadata": {
    "deletable": false,
    "editable": false,
    "hidden": true,
    "run_control": {
     "frozen": true
    }
   },
   "source": [
    "Som du kan se, trenger sekantmetoden to tidligere punkter for å finne et nytt. Pass på å skifte ut punktene etterhvert som det trengs."
   ]
  }
 ],
 "metadata": {
  "celltoolbar": "Edit Metadata",
  "kernelspec": {
   "display_name": "Python 3.10.7 64-bit",
   "language": "python",
   "name": "python3"
  },
  "language_info": {
   "codemirror_mode": {
    "name": "ipython",
    "version": 3
   },
   "file_extension": ".py",
   "mimetype": "text/x-python",
   "name": "python",
   "nbconvert_exporter": "python",
   "pygments_lexer": "ipython3",
   "version": "3.10.7"
  },
  "toc": {
   "base_numbering": 1,
   "nav_menu": {},
   "number_sections": false,
   "sideBar": true,
   "skip_h1_title": false,
   "title_cell": "Table of Contents",
   "title_sidebar": "Contents",
   "toc_cell": false,
   "toc_position": {},
   "toc_section_display": true,
   "toc_window_display": false
  },
  "vscode": {
   "interpreter": {
    "hash": "b14628d91c3e55915ef1ae2af76778e34b61f466acd3b9e48ae02c097ad54335"
   }
  }
 },
 "nbformat": 4,
 "nbformat_minor": 2
}
