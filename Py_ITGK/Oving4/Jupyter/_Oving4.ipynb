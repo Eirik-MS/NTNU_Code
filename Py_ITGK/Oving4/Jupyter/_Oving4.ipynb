{
 "cells": [
  {
   "cell_type": "markdown",
   "metadata": {
    "run_control": {
     "frozen": true
    }
   },
   "source": [
    "# Øving 4\n",
    "\n",
    "**Læringsmål:**\n",
    "- Funksjoner\n",
    "- Løkker\n",
    "- Betingelser\n",
    "- Numpy\n",
    "- Matplotlib\n",
    "\n",
    "\n",
    "## Godkjenning:\n",
    "\n",
    "For å få godkjent øvingen må du gjøre  ***4*** av ***12*** oppgaver.\n",
    "\n",
    "Oppgaver som er litt ekstra vanskelig er markert med stjerne. Oppgaver som går forbi det som er blitt forelest er markert med to stjerner.\n",
    "\n",
    "Alle oppgavene skal demonstreres til en læringsassistent på sal. I oppgaver der du skriver programkode skal også denne vises fram. Lykke til!\n",
    "\n",
    "Oppgave|Tema|Vanskelighetsgrad\n",
    "---|---|--\n",
    "[Grunnleggende om funksjoner](Grunnleggende%20om%20funksjoner.ipynb)|Funksjoner|\n",
    "[Varierte funksjoner](Varierte%20funksjoner.ipynb)|Funksjoner|\n",
    "[Lokale variabler](Lokale%20variabler.ipynb)|Funksjoner|\n",
    "[Globale variabler](Globale%20variabler.ipynb)|Funksjoner|\n",
    "[Euklids algoritme](Euklids%20algoritme.ipynb)|Funksjoner, Algoritmer|\n",
    "[Primtall](Primtall.ipynb)|Funksjoner, Løkker|\n",
    "[Multiplikasjon](Multiplikasjon.ipynb)|Funksjoner, Løkker|\n",
    "[Poenggrenser](Poenggrenser.ipynb) | Funksjoner, Løkker, Filbehandling, Plotting| ![img](./../../Resources/Images/star_yellow.svg)\n",
    "[Den store spørreundersøkelsen](Den%20store%20sporreundersokelsen.ipynb)|Funksjoner, Løkker, Plotting|![img](./../../Resources/Images/star_yellow.svg)\n",
    "[Arbeidsdager](Arbeidsdager.ipynb)|Funksjoner, Løkker|![img](./../../Resources/Images/star_yellow.svg)\n",
    "[Sekantmetoden](Sekantmetoden.ipynb)|Funksjoner, Løkker|![img](./../../Resources/Images/star_yellow.svg)\n",
    "[Not quite Blackjack](Not%20quite%20Blackjack.ipynb)|Funksjoner, Løkker, Betingelser|![img](./../../Resources/Images/star_yellow.svg)"
   ]
  }
 ],
 "metadata": {
  "celltoolbar": "Edit Metadata",
  "kernelspec": {
   "display_name": "Python 3.9.7 64-bit",
   "language": "python",
   "name": "python3"
  },
  "language_info": {
   "codemirror_mode": {
    "name": "ipython",
    "version": 3
   },
   "file_extension": ".py",
   "mimetype": "text/x-python",
   "name": "python",
   "nbconvert_exporter": "python",
   "pygments_lexer": "ipython3",
   "version": "3.9.7"
  },
  "toc": {
   "base_numbering": 1,
   "nav_menu": {},
   "number_sections": false,
   "sideBar": true,
   "skip_h1_title": false,
   "title_cell": "Table of Contents",
   "title_sidebar": "Contents",
   "toc_cell": false,
   "toc_position": {
    "height": "calc(100% - 180px)",
    "left": "10px",
    "top": "150px",
    "width": "231px"
   },
   "toc_section_display": true,
   "toc_window_display": false
  },
  "vscode": {
   "interpreter": {
    "hash": "c347c8f9a7ef94e4c9e03b4513be7835ed18f45b99a2a817fb579f408b867b16"
   }
  }
 },
 "nbformat": 4,
 "nbformat_minor": 2
}
