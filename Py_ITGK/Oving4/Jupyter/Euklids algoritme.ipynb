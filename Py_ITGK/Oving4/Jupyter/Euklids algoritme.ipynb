{
 "cells": [
  {
   "cell_type": "markdown",
   "metadata": {
    "run_control": {
     "frozen": true
    }
   },
   "source": [
    "<nav class=\"navbar navbar-default\">\n",
    "  <div class=\"container-fluid\">\n",
    "    <div class=\"navbar-header\">\n",
    "      <a class=\"navbar-brand\" href=\"_Oving4.ipynb\">Øving 4</a>\n",
    "    </div>\n",
    "    <ul class=\"nav navbar-nav\">\n",
    "        <li><a href=\"Grunnleggende%20om%20funksjoner.ipynb\">Grunnleggende om funksjoner</a></li>\n",
    "        <li><a href=\"Varierte%20funksjoner.ipynb\">Varierte funksjoner</a></li>\n",
    "        <li><a href=\"Lokale%20variabler.ipynb\">Lokale variabler</a></li>\n",
    "        <li><a href=\"Globale%20variabler.ipynb\">Globale variabler</a></li>\n",
    "        <li class=\"active\"><a href=\"Euklids%20algoritme.ipynb\">Euklids algoritme</a></li>\n",
    "        <li><a href=\"Primtall.ipynb\">Primtall</a></li>\n",
    "        <li><a href=\"Multiplikasjon.ipynb\">Multiplikasjon</a></li>\n",
    "        <li><a href=\"Poenggrenser.ipynb\">Poenggrenser</a></li>\n",
    "        <li><a href=\"Den%20store%20sporreundersokelsen.ipynb\">Den store spørreundersøkelsen</a></li>\n",
    "        <li><a href=\"Arbeidsdager.ipynb\">Arbeidsdager</a></li>\n",
    "        <li><a href=\"Sekantmetoden.ipynb\">Sekantmetoden</a></li>\n",
    "        <li><a href=\"Not%20quite%20Blackjack.ipynb\">Not quite Blackjack</a></li>\n",
    "    </ul>\n",
    "  </div>\n",
    "</nav>\n",
    "\n",
    "# Euklids algoritme\n",
    "\n",
    "**Læringsmål:**\n",
    "- Funksjoner\n",
    "- Algoritmer\n",
    "- Løkker\n",
    "\n",
    "Et vanlig problem i matematikken er å finne den største felles divisoren av to tall. I denne oppgaven skal du lage en funksjon som finner dette tallet, og så bruke funksjonen til å forkorte brøker. \n",
    "\n",
    "Eksempelvis vil det største tallet som deler både 20 og 30 være 10, brøken 20/30 kan derfor forkortes til 2/3 ved å dele på 10 i både teller og nevner. \n",
    "\n",
    "Dette problemet kan løses ved hjelp av Euklids algoritme. Pseudokode for Euklids algoritme er som følger: \n",
    "\n",
    "```\n",
    "Gitt inputparametere a og b, begge heltall.\n",
    "Gjenta så lenge b ikke er 0:\n",
    "    Tilegn den nåværende verdien av b til en ny variabel gammel_b.\n",
    "    Tilegn til b resten etter a dividert på b.\n",
    "    Tilegn til a verdien av gammel_b.\n",
    "Returner a som resultat av algoritmen\n",
    "```"
   ]
  },
  {
   "cell_type": "markdown",
   "metadata": {
    "deletable": false,
    "editable": false,
    "heading_collapsed": true,
    "run_control": {
     "frozen": true
    }
   },
   "source": [
    "## a)"
   ]
  },
  {
   "cell_type": "markdown",
   "metadata": {
    "deletable": false,
    "editable": false,
    "hidden": true,
    "run_control": {
     "frozen": true
    }
   },
   "source": [
    "Lag en funksjon `gcd` (Greatest Common Divisor) som tar inn to tall, utfører Euklids algoritme, og returnerer den største felles divisoren. For eksempel skal `gcd(30,10)` returnere svaret `10`\n",
    "\n",
    "***Skriv funksjonen `gcd` i kodeblokken under og test at den funker som den skal***"
   ]
  },
  {
   "cell_type": "code",
   "execution_count": null,
   "metadata": {
    "ExecuteTime": {
     "end_time": "2019-07-03T08:46:31.734000Z",
     "start_time": "2019-07-03T08:46:31.723874Z"
    },
    "hidden": true
   },
   "outputs": [],
   "source": [
    "# Skriv koden din her"
   ]
  },
  {
   "cell_type": "markdown",
   "metadata": {
    "deletable": false,
    "editable": false,
    "heading_collapsed": true,
    "run_control": {
     "frozen": true
    }
   },
   "source": [
    "## b)\n",
    "\n",
    "Du skal nå bruke gcd-funksjonen til å forkorte brøker. \n",
    "\n",
    "Lag en funksjon reduce_fraction som tar inn to positive heltall `a` og `b` og bruker gcd-funksjonen definert i forrige deloppgave for å finne største felles divisor `d`. \n",
    "\n",
    "Funksjonen skal returnere `a/d` og `b/d`.\n",
    "\n",
    "***Skriv funksjonen `reduce_fraction` i kodeblokken under***"
   ]
  },
  {
   "cell_type": "code",
   "execution_count": null,
   "metadata": {
    "ExecuteTime": {
     "end_time": "2019-07-03T08:46:33.807693Z",
     "start_time": "2019-07-03T08:46:33.802439Z"
    },
    "hidden": true
   },
   "outputs": [],
   "source": [
    "# Skriv koden din her"
   ]
  },
  {
   "cell_type": "markdown",
   "metadata": {
    "deletable": false,
    "editable": false,
    "hidden": true,
    "run_control": {
     "frozen": true
    }
   },
   "source": [
    "Under finner du testkode for å sjekke at funksjonen din fungerer som den skal (husk å trykke `ctrl + enter` i kodeblokken med funksjonen din før du kjører denne)"
   ]
  },
  {
   "cell_type": "code",
   "execution_count": null,
   "metadata": {
    "ExecuteTime": {
     "end_time": "2019-07-03T08:46:35.969408Z",
     "start_time": "2019-07-03T08:46:35.960742Z"
    },
    "hidden": true
   },
   "outputs": [],
   "source": [
    "# TESTKODE FOR reduce_fraction\n",
    "print (\"%d/%d\" % reduce_fraction (5, 10))\n",
    "print (\"%d/%d\" % reduce_fraction (4, 2))\n",
    "print (\"%d/%d\" % reduce_fraction (42 , 13))"
   ]
  },
  {
   "cell_type": "markdown",
   "metadata": {
    "deletable": false,
    "editable": false,
    "hidden": true,
    "run_control": {
     "frozen": true
    }
   },
   "source": [
    "Hvis din versjon av `reduce_fraction` fungerer som den skal vil du få følgende output fra testkoden:\n",
    "\n",
    "```\n",
    "1/2\n",
    "2/1\n",
    "42/13\n",
    "```"
   ]
  },
  {
   "cell_type": "markdown",
   "metadata": {
    "deletable": false,
    "editable": false,
    "heading_collapsed": true,
    "hidden": true,
    "run_control": {
     "frozen": true
    }
   },
   "source": [
    "#### Tips"
   ]
  },
  {
   "cell_type": "markdown",
   "metadata": {
    "deletable": false,
    "editable": false,
    "hidden": true,
    "run_control": {
     "frozen": true
    }
   },
   "source": [
    "- For å returnere to variabler fra en funksjon separerer man returverdiene med komma: `return var_a, var_b`\n",
    "\n",
    "- Man kan også tilegne verdier til to variabler på samme kodelinje, dette gjøres ved å skrive: `a, b = funksjon_med_to_returverdier()` der funksjonen kalles."
   ]
  }
 ],
 "metadata": {
  "celltoolbar": "Edit Metadata",
  "kernelspec": {
   "display_name": "Python 3 (ipykernel)",
   "language": "python",
   "name": "python3"
  },
  "language_info": {
   "codemirror_mode": {
    "name": "ipython",
    "version": 3
   },
   "file_extension": ".py",
   "mimetype": "text/x-python",
   "name": "python",
   "nbconvert_exporter": "python",
   "pygments_lexer": "ipython3",
   "version": "3.9.10"
  },
  "toc": {
   "base_numbering": 1,
   "nav_menu": {},
   "number_sections": false,
   "sideBar": true,
   "skip_h1_title": false,
   "title_cell": "Table of Contents",
   "title_sidebar": "Contents",
   "toc_cell": false,
   "toc_position": {},
   "toc_section_display": true,
   "toc_window_display": false
  }
 },
 "nbformat": 4,
 "nbformat_minor": 2
}
