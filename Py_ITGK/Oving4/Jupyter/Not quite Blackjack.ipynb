{
 "cells": [
  {
   "cell_type": "markdown",
   "metadata": {
    "run_control": {
     "frozen": true
    }
   },
   "source": [
    "<nav class=\"navbar navbar-default\">\n",
    "  <div class=\"container-fluid\">\n",
    "    <div class=\"navbar-header\">\n",
    "      <a class=\"navbar-brand\" href=\"_Oving4.ipynb\">Øving 4</a>\n",
    "    </div>\n",
    "    <ul class=\"nav navbar-nav\">\n",
    "        <li><a href=\"Grunnleggende%20om%20funksjoner.ipynb\">Grunnleggende om funksjoner</a></li>\n",
    "        <li><a href=\"Varierte%20funksjoner.ipynb\">Varierte funksjoner</a></li>\n",
    "        <li><a href=\"Lokale%20variabler.ipynb\">Lokale variabler</a></li>\n",
    "        <li><a href=\"Globale%20variabler.ipynb\">Globale variabler</a></li>\n",
    "        <li><a href=\"Euklids%20algoritme.ipynb\">Euklids algoritme</a></li>\n",
    "        <li><a href=\"Primtall.ipynb\">Primtall</a></li>\n",
    "        <li><a href=\"Multiplikasjon.ipynb\">Multiplikasjon</a></li>\n",
    "        <li><a href=\"Poenggrenser.ipynb\">Poenggrenser</a></li>\n",
    "        <li><a href=\"Den%20store%20sporreundersokelsen.ipynb\">Den store spørreundersøkelsen</a></li>\n",
    "        <li><a href=\"Arbeidsdager.ipynb\">Arbeidsdager</a></li>\n",
    "        <li><a href=\"Sekantmetoden.ipynb\">Sekantmetoden</a></li>\n",
    "        <li class=\"active\"><a href=\"Not%20quite%20Blackjack.ipynb\">Not quite Blackjack</a></li>\n",
    "    </ul>\n",
    "  </div>\n",
    "</nav>\n",
    "\n",
    "\n",
    "# Not quite Blackjack\n",
    "\n",
    "**Læringsmål:**\n",
    "- Funksjoner\n",
    "- Betingelser\n",
    "- Løkker\n",
    "\n",
    "I denne oppgaven skal du lage spillet Blackjack med en vri. Vanlige Blackjack reglene som skal implementeres er som følger:\n",
    "\n",
    "- Et ess teller enten 1 eller 11\n",
    "- Alle bildekort (J, Q, K) har verdi 10\n",
    "- Du får alltid utdelt to kort til å begynne med\n",
    "- Hvis den samlede verdien på kortene er over 21 er du ute\n",
    "- Et ess med 10 eller et bildekort er en «ekte» blackjack\n",
    "- Du vinner på én av tre måter:\n",
    "  - Du får ekte blackjack uten at dealer gjør det samme,\n",
    "  - Du oppnår en høyere hånd enn dealer uten å overstige 21, eller\n",
    "  - Din hånd har verdi mindre enn 21, mens dealerens hånd overstiger 21\n",
    "\n",
    "Det som er annerledes med vår Blackjack, er at dealer bare får to kort, og at spilleren ikke får velge verdien ess vil ha. Spillet vil automatisk ta den verdien som er nærmest 21, men som ikke overstiger 21, og så fort en verdi for ess er satt, vil ikke denne endres senere. Dvs. at om man først får 1 (ess) og 8, vil verdien bli satt til 11+8=19. Om man deretter velger å trekke enda et kort og får 4, vil verdien bli 19+4=23, og man vil tape. Det blir altså ikke tatt hensyn til at 1+8+4<21. Om man derimot først fikk 4 og 8, og deretter fikk 1 (ess), så ville verdien blitt 4+8+1=13. \n",
    "\n",
    "**Eksempel på kjøring:**\n",
    "```\n",
    "Dealers cards are 9 and ?\n",
    "Your score is: 16\n",
    "Do you want another card? (J/N) J\n",
    "Your score is: 19\n",
    "Do you want another card? (J/N) N\n",
    "Dealers score is: 18\n",
    "You won!\n",
    "  \n",
    "Dealers cards are 10 and ?\n",
    "Your score is: 20\n",
    "Do you want another card? (J/N) N\n",
    "Dealers score is: 21\n",
    "You lost\n",
    "  \n",
    "  \n",
    "Dealers cards are 10 and ?\n",
    "Your score is: 15\n",
    "Do you want another card? (J/N) J\n",
    "You got: 25\n",
    "You lost\n",
    "```\n",
    "\n",
    "***Skriv koden din i kodeblokken under***"
   ]
  },
  {
   "cell_type": "code",
   "execution_count": null,
   "metadata": {},
   "outputs": [],
   "source": []
  }
 ],
 "metadata": {
  "celltoolbar": "Edit Metadata",
  "kernelspec": {
   "display_name": "Python 3.10.7 64-bit",
   "language": "python",
   "name": "python3"
  },
  "language_info": {
   "codemirror_mode": {
    "name": "ipython",
    "version": 3
   },
   "file_extension": ".py",
   "mimetype": "text/x-python",
   "name": "python",
   "nbconvert_exporter": "python",
   "pygments_lexer": "ipython3",
   "version": "3.10.7"
  },
  "toc": {
   "base_numbering": 1,
   "nav_menu": {},
   "number_sections": false,
   "sideBar": true,
   "skip_h1_title": false,
   "title_cell": "Table of Contents",
   "title_sidebar": "Contents",
   "toc_cell": false,
   "toc_position": {},
   "toc_section_display": true,
   "toc_window_display": false
  },
  "vscode": {
   "interpreter": {
    "hash": "b14628d91c3e55915ef1ae2af76778e34b61f466acd3b9e48ae02c097ad54335"
   }
  }
 },
 "nbformat": 4,
 "nbformat_minor": 2
}
