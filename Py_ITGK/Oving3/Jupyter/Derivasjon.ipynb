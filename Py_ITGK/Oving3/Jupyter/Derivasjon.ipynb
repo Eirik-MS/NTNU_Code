{
 "cells": [
  {
   "cell_type": "markdown",
   "metadata": {},
   "source": [
    "<nav class=\"navbar navbar-default\">\n",
    "  <div class=\"container-fluid\">\n",
    "    <div class=\"navbar-header\">\n",
    "      <a class=\"navbar-brand\" href=\"_Oving3.ipynb\">Øving 3</a>\n",
    "    </div>\n",
    "    <ul class=\"nav navbar-nav\">\n",
    "      <li ><a href=\"Intro%20til%20lokker.ipynb\">Intro til løkker</a></li>\n",
    "    <li ><a href=\"Mer%20om%20lokker.ipynb\">Mer om løkker</a></li>\n",
    "    <li><a href=\"Nostede%20lokker.ipynb\">Intro til nøstede løkker</a></li>\n",
    "    <li ><a href=\"Kodeforstaelse.ipynb\">Kodeforståelse</a></li>\n",
    "    <li ><a href=\"Gjett%20tallet.ipynb\">Gjett tallet</a></li>\n",
    "        <li ><a href=\"Tekstbasert%20spill%202.ipynb\">Tekstbasert spill 2</a></li>\n",
    "    <li ><a href=\"Geometrisk%20rekke.ipynb\">Geometrisk rekke</a></li>\n",
    "    <li ><a href=\"Fibonacci.ipynb\">Fibonacci</a></li>\n",
    "    <li><a href=\"Alternerende%20sum.ipynb\">Alternerende sum</a></li>\n",
    "    <li><a href=\"Hangman.ipynb\">Hangman</a></li>\n",
    "    <li class=\"active\"><a href=\"Derivasjon.ipynb\">Derivasjon</a></li>\n",
    "    <li ><a href=\"Doble%20lokker.ipynb\">Doble løkker</a></li>\n",
    "    </ul>\n",
    "  </div>\n",
    "</nav>\n",
    "\n",
    "\n",
    "# Derivasjon \n",
    "\n",
    "**Læringsmål:**\n",
    "\n",
    "* While-løkker\n",
    "\n"
   ]
  },
  {
   "cell_type": "code",
   "execution_count": 1,
   "metadata": {},
   "outputs": [],
   "source": [
    "import matplotlib.pyplot as plt\n",
    "import numpy as np"
   ]
  },
  {
   "cell_type": "code",
   "execution_count": 2,
   "metadata": {},
   "outputs": [],
   "source": [
    "def f_x(x):\n",
    "    return x**2"
   ]
  },
  {
   "cell_type": "markdown",
   "metadata": {},
   "source": [
    "I denne oppgaven skal du finne en tilnærming til den deriverte av `f_x(x)` ved å bruke definisjonen av den deriverte. Du kan starte med å kjøre de to kodeblokkene over.  \n",
    "\n",
    "\n",
    "### a) \n",
    "Implementer og plot den analytiske deriverte av `f_x()`, sammen med `f_x()`. Vi skal bruke den analytisk deriverte for å se hvor langt unna vår tilnærming til den deriverte er. Du kan bruke funksjonen linspace fra biblioteket numpy på følgende møte:\n",
    "\n",
    "```python\n",
    "x = np.linspace(-10,10,100)\n",
    "```\n",
    "Dette betyr at vi vi deler området mellom -10 og 10 i hundre like store deler."
   ]
  },
  {
   "cell_type": "code",
   "execution_count": null,
   "metadata": {},
   "outputs": [],
   "source": [
    "\n"
   ]
  },
  {
   "cell_type": "code",
   "execution_count": null,
   "metadata": {},
   "outputs": [],
   "source": []
  },
  {
   "cell_type": "markdown",
   "metadata": {},
   "source": [
    "### b)\n",
    "\n",
    "_Merk at i denne deloppgaven er `x` et tall, ikke et `numpy.array`._  \n",
    "I denne oppgaven skal du lage funksjonen `f_deriv(f,x,h)`, som bruker definisjonen av den deriverte til å estimere $f'(x)$.  \n",
    "Definer deretter funksjonen `approximate(f, x, h, tol)`, som bruker `f_deriv` til å estimere med økende nøyaktighet frem til forskjellen mellom svaret og estimatet er mindre enn toleransen.  \n",
    "For hver iterasjon kan du dele `h` på 10.  \n",
    "`approximate` skal returnere to lister, en med verdiene fra `f_deriv`, og en med differansen mellom den tilnærmede og analytiske verdien.  \n",
    "Plott begge listene som punkter.\n",
    "\n",
    "Eksempel på output med startverdiene for `x = 1`, `h = 10` og `tol = 0.0001`:\n",
    "\n",
    "```python \n",
    "([12.0, 3.0, 2.100000000000002, 2.0100000000000007, 2.0009999999996975], [10.0, 1.0, 0.10000000000000187, 0.010000000000000675, 0.0009999999996974651])\n",
    "```\n",
    "\n",
    "Her er første array de approksimerte verdiene i hver iterasjon, mens den siste arrayen er tilhørende feil i hver iterasjon. \n",
    "\n",
    "Eksempel på plotting:  \n",
    "![Bilde av plottede punkter](https://i.imgur.com/0eyBbeu.png)"
   ]
  },
  {
   "cell_type": "code",
   "execution_count": null,
   "metadata": {},
   "outputs": [],
   "source": []
  },
  {
   "cell_type": "code",
   "execution_count": null,
   "metadata": {},
   "outputs": [],
   "source": []
  }
 ],
 "metadata": {
  "kernelspec": {
   "display_name": "Python 3.10.6 64-bit",
   "language": "python",
   "name": "python3"
  },
  "language_info": {
   "codemirror_mode": {
    "name": "ipython",
    "version": 3
   },
   "file_extension": ".py",
   "mimetype": "text/x-python",
   "name": "python",
   "nbconvert_exporter": "python",
   "pygments_lexer": "ipython3",
   "version": "3.10.6"
  },
  "vscode": {
   "interpreter": {
    "hash": "b31bfab217b7bba0d27806e15e39a0b8f095aad566d769ceebb383dd6773a3d0"
   }
  }
 },
 "nbformat": 4,
 "nbformat_minor": 2
}
