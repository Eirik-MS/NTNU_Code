{
 "cells": [
  {
   "cell_type": "markdown",
   "metadata": {},
   "source": [
    "<nav class=\"navbar navbar-default\">\n",
    "  <div class=\"container-fluid\">\n",
    "    <div class=\"navbar-header\">\n",
    "      <a class=\"navbar-brand\" href=\"_Oving3.ipynb\">Øving 3</a>\n",
    "    </div>\n",
    "    <ul class=\"nav navbar-nav\">\n",
    "      <li ><a href=\"Intro%20til%20lokker.ipynb\">Intro til løkker</a></li>\n",
    "    <li ><a href=\"Mer%20om%20lokker.ipynb\">Mer om løkker</a></li>\n",
    "    <li><a href=\"Nostede%20lokker.ipynb\">Intro til nøstede løkker</a></li>\n",
    "    <li ><a href=\"Kodeforstaelse.ipynb\">Kodeforståelse</a></li>\n",
    "    <li class=\"active\"><a href=\"Gjett%20tallet.ipynb\">Gjett tallet</a></li>\n",
    "        <li ><a href=\"Tekstbasert%20spill%202.ipynb\">Tekstbasert spill 2</a></li>\n",
    "    <li ><a href=\"Geometrisk%20rekke.ipynb\">Geometrisk rekke</a></li>\n",
    "    <li ><a href=\"Fibonacci.ipynb\">Fibonacci</a></li>\n",
    "    <li><a href=\"Alternerende%20sum.ipynb\">Alternerende sum</a></li>\n",
    "    <li ><a href=\"Hangman.ipynb\">Hangman</a></li>\n",
    "    <li ><a href=\"Derivasjon.ipynb\">Derivasjon</a></li>\n",
    "    <li ><a href=\"Doble%20lokker.ipynb\">Doble løkker</a></li>\n",
    "    </ul>\n",
    "  </div>\n",
    "</nav>\n",
    "\n",
    "\n",
    "# Tekstbasert spill 2\n",
    "\n",
    "**Læringsmål:**\n",
    "\n",
    "* Løkker\n",
    "* Betingelser\n",
    "\n",
    "I denne oppgaven skal vi utvide spillet vi begynte på i øving 2. Du må ikke ha gjort oppgaven i øving for å gjøre denne, men det kan være lurt å ta en kikk [her](link) for å forstå hva oppgaven går ut på. "
   ]
  },
  {
   "cell_type": "markdown",
   "metadata": {
    "deletable": false,
    "editable": false,
    "run_control": {
     "frozen": true
    }
   },
   "source": [
    "### a)"
   ]
  },
  {
   "cell_type": "markdown",
   "metadata": {},
   "source": [
    "Ved hjelp av en while løkke, la brukeren skrive inn kommando, og gjenta tilstanden dersom brukeren gir inn en ugyldig kommando. Se forrige oppgave for oppførsel ellers. \n",
    "\n",
    "Eksempel:\n",
    "```python\n",
    "Du står utenfor en dør.\n",
    ">sadasd\n",
    "Forstår ikke kommando, prøv noe annet.\n",
    "Du står utenfor en dør.\n",
    ">Gå inn\n",
    "Du går inn døren.\n",
    "```\n",
    "\n",
    "***Skriv koden din i blokka under***"
   ]
  },
  {
   "cell_type": "code",
   "execution_count": 1,
   "metadata": {},
   "outputs": [],
   "source": []
  },
  {
   "cell_type": "markdown",
   "metadata": {},
   "source": [
    "### b)"
   ]
  },
  {
   "cell_type": "markdown",
   "metadata": {},
   "source": [
    "Ved hjelp av løkker ønsker vi nå at visse kommandoer skal ta brukeren tilbake til utgangspunktet i spillet.  Dersom en bruker skriver inn en kommando som ikke skal ta brukeren ut av spillet (eller en ugyldig kommando), ønsker vi at den opprinnelige meldingen brukeren får skal gjentas, ellers går spilleren ut av løkken. **Altså, for alle andre kommandoer enn en spesifikk skal løkka gjentas.** I eksempelet under gjentas tilstanden helt til brukeren skriver noe som endrer den.\n",
    "\n",
    "Eksempel:\n",
    "```python\n",
    "Du står utenfor en dør med en postkasse.\n",
    ">bank på\n",
    "Du får ingen respons.\n",
    "Du står utenfor en dør med en postkasse. #opprinnelig tilstand\n",
    ">gå andre veien\n",
    "Du snur deg og vandrer hjem igjen. Du hører en skummel lyd og løper tilbake. \n",
    "Du står utenfor en dør med en postkasse. #opprinnelig tilstand\n",
    ">åpne døren \n",
    "Du går inn døren. #går ut av løkken\n",
    "```\n",
    "\n",
    "***Skriv koden din i blokka under***"
   ]
  },
  {
   "cell_type": "code",
   "execution_count": null,
   "metadata": {},
   "outputs": [],
   "source": []
  },
  {
   "cell_type": "markdown",
   "metadata": {},
   "source": [
    "### c)"
   ]
  },
  {
   "cell_type": "markdown",
   "metadata": {},
   "source": [
    "Ved hjelp av løkker og variabler skal du nå la visse kommandoer brukeren skriver inn endre tilstanden i spillet (altså variablene) **selv om vi ikke går ut av løkka**. Ved å sjekke tilstanden til disse variablene skal en kommando kunne gjøre to ting, utifra hva tilstanden til en variabel er satt til.\n",
    "\n",
    "Eksempel:\n",
    "```python\n",
    "Du står utenfor en dør med en postkasse.\n",
    ">åpne døren\n",
    "Døren er låst.\n",
    "\n",
    "Du står utenfor en dør med en postkasse.\n",
    ">åpne postkassen\n",
    "Du finner en nøkkel. #her må man oppdatere en variabel\n",
    "\n",
    "Du står utenfor en dør med en postkasse. #vi printer ut det samme \n",
    ">åpne døren \n",
    "Du låser opp døren og går inn. #her er tilstanden annerledes enn når vi startet og vi går ut av løkka\n",
    "```\n",
    "\n",
    "***Skriv koden din i blokka under***"
   ]
  },
  {
   "cell_type": "code",
   "execution_count": null,
   "metadata": {},
   "outputs": [],
   "source": []
  },
  {
   "cell_type": "markdown",
   "metadata": {},
   "source": [
    "### d)"
   ]
  },
  {
   "cell_type": "markdown",
   "metadata": {},
   "source": [
    "Legg til muligheten for brukeren til å gå ut av spillet uansett tilstand vet å kun trykke enter uten å skrive inn noe. Legg inn en avslutningsmelding.\n",
    "\n",
    "Eksempel:\n",
    "```python\n",
    "Du står utenfor en dør med en postkasse.\n",
    ">\n",
    "Ha en fin dag!\n",
    "```\n",
    "\n",
    "***Skriv koden din i samme blokk som oppgave c***"
   ]
  },
  {
   "cell_type": "markdown",
   "metadata": {
    "heading_collapsed": true
   },
   "source": [
    "#### Hint"
   ]
  },
  {
   "cell_type": "markdown",
   "metadata": {
    "hidden": true
   },
   "source": [
    "Du kan bruke break for å hoppe ut av en løkke."
   ]
  }
 ],
 "metadata": {
  "celltoolbar": "Edit Metadata",
  "kernelspec": {
   "display_name": "Python 3",
   "language": "python",
   "name": "python3"
  },
  "language_info": {
   "codemirror_mode": {
    "name": "ipython",
    "version": 3
   },
   "file_extension": ".py",
   "mimetype": "text/x-python",
   "name": "python",
   "nbconvert_exporter": "python",
   "pygments_lexer": "ipython3",
   "version": "3.7.4"
  }
 },
 "nbformat": 4,
 "nbformat_minor": 2
}
