{
    "cells": [{
            "cell_type": "markdown",
            "metadata": {
                "deletable": false,
                "editable": false,
                "run_control": {
                    "frozen": true
                }
            },
            "source": [
                "# Øving 3\n",
                "\n",
                "**Læringsmål:**\n",
                "\n",
                "* Løkker\n",
                "* Betingelser\n",
                "* Strenger\n",
                " \n",
                "\n",
                "## Godkjenning:\n",
                "\n",
                "For å få godkjent øvingen må du gjøre ***4*** av ***11*** oppgaver. ***1*** av de ***4*** må være en oppgave merket med stjerne.\n",
                "\n",
                "Oppgaver som er litt ekstra vanskelig er markert med stjerne. Oppgaver som går forbi det som er blitt forelest er markert med to stjerner.\n",
                "\n",
                "Alle oppgavene skal demonstreres til en læringsassistent på sal. I oppgaver der du skriver programkode skal også denne vises fram. Lykke til!\n",
                "\n",
                "Oppgave | Tema | Vanskelighetsgrad\n",
                "--- | --- | ---\n",
                "[Introduksjon til løkker](Intro%20til%20lokker.ipynb) |Løkker | \n",
                "[Mer om løkker](Mer%20om%20lokker.ipynb)|Løkker|\n",
                "[Intro til nøstede løkker](Nostede%20lokker.ipynb)|Nøstede løkker|\n",
                "[Kodeforståelse](Kodeforstaelse.ipynb)|Kodeforståelse|\n",
                "[Gjett tallet](Gjett%20tallet.ipynb)|Løkker og betingelse|\n",
                "[Tekstbasert Spill 2](Tekstbasert%20spill%202.ipynb)|Løkker og betingelse|![img](./../../Resources/Images/star_yellow.svg)\n",
                "[Geometrisk rekke](Geometrisk%20rekke.ipynb)|Løkker og betingelse|![img](./../../Resources/Images/star_yellow.svg)\n",
                "[Fibonacci](Fibonacci.ipynb)|Løkker|![img](./../../Resources/Images/star_yellow.svg)\n",
                "[Alternerende sum](Alternerende%20sum.ipynb)|Løkker|![img](./../../Resources/Images/star_yellow.svg)\n",
                "[Hangman](Hangman.ipynb)|Løkker|![img](./../../Resources/Images/star_yellow.svg)\n",
                "[Doble løkker](Doble%20lokker.ipynb)|Nøstede Løkker| ![img](./../../Resources/Images/star_yellow.svg)\n",
                "[Derivasjon](Derivasjon.ipynb)| Løkker |\n"
            ]
        },
        {
            "cell_type": "code",
            "execution_count": null,
            "metadata": {},
            "outputs": [],
            "source": []
        }
    ],
    "metadata": {
        "celltoolbar": "Edit Metadata",
        "kernelspec": {
            "display_name": "Python 3.9.7 64-bit",
            "language": "python",
            "name": "python3"
        },
        "language_info": {
            "codemirror_mode": {
                "name": "ipython",
                "version": 3
            },
            "file_extension": ".py",
            "mimetype": "text/x-python",
            "name": "python",
            "nbconvert_exporter": "python",
            "pygments_lexer": "ipython3",
            "version": "3.9.7"
        },
        "toc": {
            "base_numbering": 1,
            "nav_menu": {},
            "number_sections": false,
            "sideBar": true,
            "skip_h1_title": false,
            "title_cell": "Table of Contents",
            "title_sidebar": "Contents",
            "toc_cell": false,
            "toc_position": {},
            "toc_section_display": true,
            "toc_window_display": false
        },
        "vscode": {
            "interpreter": {
                "hash": "c347c8f9a7ef94e4c9e03b4513be7835ed18f45b99a2a817fb579f408b867b16"
            }
        }
    },
    "nbformat": 4,
    "nbformat_minor": 2
}