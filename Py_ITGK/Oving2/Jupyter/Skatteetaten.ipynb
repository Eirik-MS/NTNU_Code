{
 "cells": [
  {
   "cell_type": "markdown",
   "metadata": {
    "deletable": false,
    "editable": false,
    "run_control": {
     "frozen": true
    }
   },
   "source": [
    "<nav class=\"navbar navbar-default\">\n",
    "  <div class=\"container-fluid\">\n",
    "    <div class=\"navbar-header\">\n",
    "      <a class=\"navbar-brand\" href=\"_Oving2.ipynb\">Øving 2</a>\n",
    "    </div>\n",
    "    <ul class=\"nav navbar-nav\">\n",
    "    <li><a href=\"Ulike%20typer%20if-setninger.ipynb\">Ulike typer if-setninger</a></li>\n",
    "    <li><a href=\"Sammenligning%20av%20strenger.ipynb\">Sammenligning av strenger</a></li>\n",
    "    <li><a href=\"Logiske%20operatorer%20og%20logiske%20uttrykk.ipynb\">Logiske operatorer og logiske uttrykk</a></li>\n",
    "    <li><a href=\"Forbrytelse%20og%20straff.ipynb\">Forbrytelse og straff</a></li>\n",
    "    <li ><a href=\"Aarstider.ipynb\">Årstider</a></li>\n",
    "    <li class=\"active\"><a href=\"Tekstbasert%20spill.ipynb\">Tekstbasert spill</a></li>\n",
    "    <li><a href=\"Andregradsligning.ipynb\">Andregradsligning</a></li>\n",
    "    <li><a href=\"Betingede%20funksjoner.ipynb\">Betingede funksjoner</a></li>\n",
    "    <li><a href=\"Sjakkbrett.ipynb\">Sjakkbrett</a></li>\n",
    "    <li><a href=\"Billettpriser%20og%20rabatter.ipynb\">Billettpriser og rabatter</a></li>\n",
    "    <li><a href=\"Skatteetaten.ipynb\">Skatteetaten</a></li>\n",
    "    <li><a href=\"Epletigging.ipynb\">Datamaskinen som tigget epler</a></li>\n",
    "    </ul>\n",
    "  </div>\n",
    "</nav>\n",
    "\n",
    "# Skatteetaten\n",
    "\n",
    "**Læringsmål:**\n",
    "\n",
    "* Betingelser\n",
    " \n",
    "\n",
    "I denne oppgaven skal du lage et program som tar inn opplysninger om utleie av eiendom fra en bruker. Programmet vil så beregne hvor stor andel av inntekten som er skattbar.  \n",
    "\n",
    "Regler for skatt finnes på Skatteetaten sine hjemmesider, men er ikke nødvendig å sette seg inn i: \n",
    "\n",
    "http://www.skatteetaten.no/no/Person/Selvangivelse/tema-og-fradrag/Jobb-og-utdanning/delingsokonomi/utleie-av-bolig-og-fritidsbolig/\n",
    "\n",
    " \n",
    "\n"
   ]
  },
  {
   "cell_type": "markdown",
   "metadata": {
    "deletable": false,
    "editable": false,
    "run_control": {
     "frozen": true
    }
   },
   "source": [
    "### a)"
   ]
  },
  {
   "cell_type": "markdown",
   "metadata": {
    "deletable": false,
    "run_control": {
     "frozen": true
    }
   },
   "source": [
    "Lag et program som ber brukeren om opplysninger og svarer om inntekten er skattepliktig eller skattefri. \n",
    "\n",
    "Regler som må implementeres:\n",
    "\n",
    "* Hvis du bruker minst halvparten av boligen du eier til eget bruk, beregnet etter utleieverdi, er det skattefritt å leie ut resten.\n",
    "* Leier du ut mer enn halvparten av egen bolig, men for under 20 000 kr i året er det også skattefritt.\n",
    "* Leier du ut hele eller mer enn halvparten av egen bolig for over 20 000 kr i året er samtlige leieinntekter for hele året skattepliktige. \n",
    "\n",
    "**Eksempel på kjøring av kode:**\n",
    " \n",
    "```python\n",
    ">>>skattepliktig_beløp(19500, 60)\n",
    "\n",
    "INFO: Denne funksjonen besvarer om utleie av boligen din er skattepliktig.\n",
    "Skattepliktig beløp er: 0kr\n",
    "```\n",
    "\n",
    "\n",
    "```python\n",
    ">>>skattepliktig_beløp(60000, 55)\n",
    "\n",
    "INFO: Denne funksjonen besvarer om utleie av boligen din er skattepliktig.\n",
    "Skattepliktig beløp er: 60000kr\n",
    "```"
   ]
  },
  {
   "cell_type": "code",
   "execution_count": 1,
   "metadata": {},
   "outputs": [],
   "source": [
    "\"\"\"\n",
    "Funksjon som tar inn årlig leieinntekt og hvor mange prosent av leiligheten som er utleid\n",
    "og returnerer skyldig skattebeløp i antall kroner\n",
    "\"\"\"\n",
    "def skattepliktig_beløp(leieinntekt, prosent_utleid):\n",
    "    print('INFO: Denne funksjonen besvarer om utleie av boligen din er skattepliktig.')\n",
    "    \"\"\"Skriv koden din her\"\"\"\n",
    "    beløp = ...\n",
    "    \n",
    "    return f\"Skattepliktig beløp er: {beløp}kr\""
   ]
  },
  {
   "cell_type": "markdown",
   "metadata": {
    "deletable": false,
    "editable": false,
    "run_control": {
     "frozen": true
    }
   },
   "source": [
    "### b)"
   ]
  },
  {
   "cell_type": "markdown",
   "metadata": {
    "deletable": false,
    "run_control": {
     "frozen": true
    }
   },
   "source": [
    "For å leie ut *sekundærbolig* eller *fritidsbolig* gjelder det særskilte regler. Lag en tilsvarende funksjon som dekker disse behovene. (Se samme nettside for mer informasjon om ønskelig.)\n",
    "\n",
    "Regler som må implementeres:\n",
    "\n",
    "* Sekundærbolig:\n",
    " * Utleie av sekundærbolig beskattes fra første krone.\n",
    "* Fritidsbolig:\n",
    " * Der du helt eller delvis bruker fritidsboligen til fritidsformål, og selv bruker eiendommen i rimelig omfang over tid, så vil utleieinntekter inntil kr 10 000 være skattefrie.\n",
    " * Av det overskytende beløp regnes 85 prosent som skattepliktig inntekt.\n",
    " * Dersom fritidsboligen anses som utleiehytte blir det beskatning fra første krone.\n",
    " * Om du leier ut flere enn en fritidsbolig vil grensen på 10 000 gjelde per fritidsbolig.\n",
    " \n",
    "**Eksempel på kjøring av kode:**\n",
    " \n",
    "```python\n",
    "INFO\n",
    "Dette programmet besvarer om din utleie en annen type bolig,\n",
    "her sekundær- eller fritidsbolig, er skattepliktig.\n",
    "Først trenger vi å vite om du leier ut en sekundær- eller en fritidsbolig.\n",
    "---------------------------------------------------------------------\n",
    "DATAINNHENTING:\n",
    "Skriv inn type annen bolig (sekundærbolig/fritidsbolig) du har leid ut: Fritidsbolig\n",
    "    \n",
    "INFO\n",
    "Du har valgt fritidsbolig.\n",
    "Nå trenger vi først å vite om fritidsboligen(e) primært brukes til utleie eller fritid.\n",
    "Deretter trenger vi å vite hvor mange fritidsbolig(er) du leier ut.\n",
    "Til slutt trenger vi å vite hvor store utleieinntekter du har pr. fritidsbolig.\n",
    "\n",
    "---------------------------------------------------------------------\n",
    "DATAINNHENTING:\n",
    "Skriv inn formålet med fritidsboligen(e): Fritid\n",
    "Skriv inn antallet fritidsboliger du leier ut: 3\n",
    "Skriv inn utleieinntekten pr. fritidsbolig: 15000\n",
    "    \n",
    "---------------------------------------------------------------------\n",
    "SKATTEBEREGNING:\n",
    "Inntekten er skattepliktig\n",
    "Overskytende beløp pr. fritidsbolig er 5000\n",
    "Skattepliktig inntekt pr. fritidsbolig er 4250\n",
    "Totalt skattepliktig beløp er 12750\n",
    "```\n",
    "\n",
    "For å få til oppgaven vil det være nødvendig å bruke `input()`-funksjonen for å ta inn den nødvendige informasjonen om boligtype, og dersom det er en fritidsbolig må resten av informasjonen også innhentes.\n",
    "\n",
    "***Skriv koden din her:***"
   ]
  },
  {
   "cell_type": "code",
   "execution_count": 1,
   "metadata": {},
   "outputs": [],
   "source": [
    "def skattepliktig_beløp():\n",
    "    boligtype = input(\"Skriv inn type annen bolig (sekundærbolig/fritidsbolig) du har leid ut: \")"
   ]
  },
  {
   "cell_type": "markdown",
   "metadata": {
    "deletable": false,
    "editable": false,
    "run_control": {
     "frozen": true
    }
   },
   "source": [
    "### c)"
   ]
  },
  {
   "cell_type": "markdown",
   "metadata": {
    "deletable": false,
    "editable": false,
    "run_control": {
     "frozen": true
    }
   },
   "source": [
    "Sett sammen del (a) og (b) til et større program som først spør brukeren hva som er blitt leid ut (egen bolig / sekundærbolig / fritidsbolig), og deretter regner ut passende skattesats. Du kan delvis kopiere koden fra de tidligere deloppgavene.\n",
    "\n",
    "***Skriv koden din her:***"
   ]
  },
  {
   "cell_type": "code",
   "execution_count": null,
   "metadata": {},
   "outputs": [],
   "source": []
  }
 ],
 "metadata": {
  "celltoolbar": "Edit Metadata",
  "kernelspec": {
   "display_name": "Python 3.9.7 64-bit",
   "language": "python",
   "name": "python3"
  },
  "language_info": {
   "codemirror_mode": {
    "name": "ipython",
    "version": 3
   },
   "file_extension": ".py",
   "mimetype": "text/x-python",
   "name": "python",
   "nbconvert_exporter": "python",
   "pygments_lexer": "ipython3",
   "version": "3.9.7"
  },
  "toc": {
   "base_numbering": 1,
   "nav_menu": {},
   "number_sections": false,
   "sideBar": true,
   "skip_h1_title": false,
   "title_cell": "Table of Contents",
   "title_sidebar": "Contents",
   "toc_cell": false,
   "toc_position": {},
   "toc_section_display": true,
   "toc_window_display": false
  },
  "vscode": {
   "interpreter": {
    "hash": "c347c8f9a7ef94e4c9e03b4513be7835ed18f45b99a2a817fb579f408b867b16"
   }
  }
 },
 "nbformat": 4,
 "nbformat_minor": 2
}
