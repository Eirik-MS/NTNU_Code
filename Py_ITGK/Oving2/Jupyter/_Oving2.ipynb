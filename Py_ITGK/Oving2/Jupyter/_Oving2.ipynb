{
 "cells": [
  {
   "cell_type": "markdown",
   "metadata": {
    "deletable": false,
    "run_control": {
     "frozen": true
    }
   },
   "source": [
    "# Øving 2\n",
    "\n",
    "**Læringsmål:**\n",
    "\n",
    "- If-setninger, hvorfor og hvordan\n",
    "- Betingelser, Logiske uttrykk\n",
    "- Funksjoner\n",
    " \n",
    "\n",
    "## Godkjenning:\n",
    "\n",
    "For å få godkjent øvingen må du gjøre \"Ulike typer if-setninger\", samt ***4*** av de ***9*** resterende oppgavene.\n",
    "\n",
    "Oppgaver som er litt ekstra vanskelig er markert med stjerne. Oppgaver som går forbi det som er blitt forelest er markert med to stjerner.\n",
    "\n",
    "Alle oppgavene skal demonstreres til en læringsassistent på sal. I oppgaver der du skriver programkode skal også denne vises fram. Lykke til!\n",
    "\n",
    "\n",
    "Oppgave | Tema | Vanskelighetsgrad\n",
    "--- | --- | ---\n",
    "[Ulike typer if-setninger](Ulike%20typer%20if-setninger.ipynb) | Valg, forgreninger | \n",
    "[Sammeligning av strenger](Sammenligning%20av%20strenger.ipynb) | Betingelser, Kodeforståelse | \n",
    "[Logiske operatorer og logiske uttrykk](Logiske%20operatorer%20og%20logiske%20uttrykk.ipynb)|Betingelser, logiske uttrykk|\n",
    "[Forbrytelse og straff](Forbrytelse%20og%20straff.ipynb)|Kodeforståelse, feilretting|\n",
    "[Årstider](Aarstider.ipynb)|Betingelser, logiske uttrykk|\n",
    "[Tekstbasert spill](Tekstbasert%20spill.ipynb)|Betingelser|\n",
    "[Andregradsligning](Andregradsligning.ipynb)|Betingelser avrundingsfeil|\n",
    "[Betingede funksjoner](Betingede%20funksjoner.ipynb)|Betingelser, funksjoner|\n",
    "[Sjakkbrett](Sjakkbrett.ipynb)|Betingelser, logiske uttrykk|![img](./../../Resources/Images/star_yellow.svg)\n",
    "[Billettpriser og rabatter](Billettpriser%20og%20rabatter.ipynb)|Betingelser|![img](./../../Resources/Images/star_yellow.svg)\n",
    "[Skatteetaten](Skatteetaten.ipynb)|Betingelser|![img](./../../Resources/Images/star_yellow.svg)\n",
    "[Datamaskinen som tigget epler](Epletigging.ipynb)|Feilretting, betingelser|![img](./../../Resources/Images/star_yellow.svg)"
   ]
  },
  {
   "cell_type": "code",
   "execution_count": null,
   "metadata": {},
   "outputs": [],
   "source": []
  }
 ],
 "metadata": {
  "celltoolbar": "Edit Metadata",
  "kernelspec": {
   "display_name": "Python 3.10.6 64-bit",
   "language": "python",
   "name": "python3"
  },
  "language_info": {
   "codemirror_mode": {
    "name": "ipython",
    "version": 3
   },
   "file_extension": ".py",
   "mimetype": "text/x-python",
   "name": "python",
   "nbconvert_exporter": "python",
   "pygments_lexer": "ipython3",
   "version": "3.10.6"
  },
  "toc": {
   "base_numbering": 1,
   "nav_menu": {},
   "number_sections": false,
   "sideBar": true,
   "skip_h1_title": false,
   "title_cell": "Table of Contents",
   "title_sidebar": "Contents",
   "toc_cell": false,
   "toc_position": {},
   "toc_section_display": true,
   "toc_window_display": false
  },
  "vscode": {
   "interpreter": {
    "hash": "95cdb06e919eab5e2c554174537356ac9b55200d1eb6f880dc25de04343a18ea"
   }
  }
 },
 "nbformat": 4,
 "nbformat_minor": 4
}
