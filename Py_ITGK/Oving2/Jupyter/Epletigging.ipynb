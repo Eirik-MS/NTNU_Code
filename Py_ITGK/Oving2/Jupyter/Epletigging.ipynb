{
 "cells": [
  {
   "cell_type": "markdown",
   "metadata": {
    "deletable": false,
    "editable": false,
    "run_control": {
     "frozen": true
    }
   },
   "source": [
    "<nav class=\"navbar navbar-default\">\n",
    "  <div class=\"container-fluid\">\n",
    "    <div class=\"navbar-header\">\n",
    "      <a class=\"navbar-brand\" href=\"_Oving2.ipynb\">Øving 2</a>\n",
    "    </div>\n",
    "    <ul class=\"nav navbar-nav\">\n",
    "    <li><a href=\"Ulike%20typer%20if-setninger.ipynb\">Ulike typer if-setninger</a></li>\n",
    "    <li><a href=\"Sammenligning%20av%20strenger.ipynb\">Sammenligning av strenger</a></li>\n",
    "    <li><a href=\"Logiske%20operatorer%20og%20logiske%20uttrykk.ipynb\">Logiske operatorer og logiske uttrykk</a></li>\n",
    "    <li><a href=\"Forbrytelse%20og%20straff.ipynb\">Forbrytelse og straff</a></li>\n",
    "    <li ><a href=\"Aarstider.ipynb\">Årstider</a></li>\n",
    "    <li class=\"active\"><a href=\"Tekstbasert%20spill.ipynb\">Tekstbasert spill</a></li>\n",
    "    <li><a href=\"Andregradsligning.ipynb\">Andregradsligning</a></li>\n",
    "    <li><a href=\"Betingede%20funksjoner.ipynb\">Betingede funksjoner</a></li>\n",
    "    <li><a href=\"Sjakkbrett.ipynb\">Sjakkbrett</a></li>\n",
    "    <li><a href=\"Billettpriser%20og%20rabatter.ipynb\">Billettpriser og rabatter</a></li>\n",
    "    <li><a href=\"Skatteetaten.ipynb\">Skatteetaten</a></li>\n",
    "    <li><a href=\"Epletigging.ipynb\">Datamaskinen som tigget epler</a></li>\n",
    "    </ul>\n",
    "  </div>\n",
    "</nav>\n",
    "\n",
    "# Datamaskinen som tigget epler - Debugging\n",
    "\n",
    "**Læringsmål:**\n",
    "\n",
    "* Feilretting\n",
    "* Betingelser\n",
    "\n",
    "I denne oppgaven får du utdelt en kodesnutt som inneholder feil. Det er både konkrete feil i koden (python-syntaks) og logiske feil (brukeren kan gi input som får programmet til å gi betydningsløse svar). \n",
    "\n",
    "Din oppgave er å rette opp i syntaks-feilene, og håndtere de logiske feilene på en fornuftig måte. \n",
    "\n"
   ]
  },
  {
   "cell_type": "markdown",
   "metadata": {
    "deletable": false,
    "editable": false,
    "run_control": {
     "frozen": true
    }
   },
   "source": [
    "### a)"
   ]
  },
  {
   "cell_type": "markdown",
   "metadata": {
    "deletable": false,
    "run_control": {
     "frozen": true
    }
   },
   "source": [
    "Funksjonen tar inn hvor mange epler brukeren har, og hvor mange han er villig til å gi bort, som argumenter. Basert på disse argumentene er det tre mulige utfall, som vist under:\n",
    "\n",
    "  \n",
    "```python\n",
    ">>> teste_gavmildhet(0, 0)\n",
    "\n",
    "Dette er et program for å teste din sjenerøsitet.\n",
    "Du har 0 epler.\n",
    "Æsj, det sier du bare for å slippe å gi noe!\n",
    "```\n",
    "  \n",
    "```python\n",
    ">>> teste_gavmildhet(5, 2)\n",
    "\n",
    "Dette er et program for å teste din sjenerøsitet.\n",
    "Du har 5 epler.\n",
    "Du er villig til å gi meg 2 epler.\n",
    "Du beholder det meste for deg selv...\n",
    "Du har nå 3 epler igjen.\n",
    "```\n",
    "  \n",
    "```python\n",
    ">>> teste_gavmildhet(7, 5)\n",
    "\n",
    "Dette er et program for å teste din sjenerøsitet.\n",
    "Du har 7 epler.\n",
    "Du er villig til å gi meg 5 epler.\n",
    "Takk, det var snilt!\n",
    "Du har nå 2 epler igjen. \n",
    "```\n",
    "\n",
    "Koden som skal kjøre programmet er som vist under. **Finn syntaksfeilene og rett opp i dem slik at koden kjører som vist i eksempelteksten.**"
   ]
  },
  {
   "cell_type": "code",
   "execution_count": null,
   "metadata": {},
   "outputs": [],
   "source": [
    "def teste_gavmildhet(antall_epler, antall_gis_bort):\n",
    "    streng = \"Dette er et program for å teste din sjenerøsitet.\\n\"\n",
    "    streng += f\"Du har {antall_epler} epler.\\n\"\n",
    "    \n",
    "    if antall_epler = 0:\n",
    "        streng += \"Æsj, det sier du bare for å slippe å gi noe!\"\n",
    "        return streng\n",
    "    else\n",
    "    streng += f\"Du er villig til å gi meg {antall_gis_bort} epler.\\n\"\n",
    "    if antall_gis_bort < antall_epler / 2:\n",
    "       streng += \"Du beholder det meste for deg selv...\\n\"\n",
    "           else:\n",
    "           streng += \"Takk, det var snilt!\")\n",
    "       strent += f\"Du har nå {har_epler - gir_epler} epler igjen.\"\n",
    "    return streng\""
   ]
  },
  {
   "cell_type": "markdown",
   "metadata": {
    "deletable": false,
    "editable": false,
    "run_control": {
     "frozen": true
    }
   },
   "source": [
    "### b)"
   ]
  },
  {
   "cell_type": "markdown",
   "metadata": {
    "deletable": false,
    "run_control": {
     "frozen": true
    }
   },
   "source": [
    "Utskriften av siste print-setning vil bli grammatisk feil hvis brukeren har igjen 1 eple, siden det skrives «epler». Utvid funksjonen slik at det skriver:\n",
    "\n",
    "  \n",
    "```python\n",
    ">>> test_gavmildhet(5, 4)\n",
    "\n",
    "\n",
    "Dette er et program for å teste din sjenerøsitet.\n",
    "Du har 5 epler.\n",
    "Du er villig til å gi meg 4 epler.\n",
    "Takk, det var snilt!\n",
    "Du har nå 1 eple igjen. \n",
    "```\n",
    "\n",
    "hvis det ble akkurat ett, ellers epler i flertall som det står nå."
   ]
  },
  {
   "cell_type": "markdown",
   "metadata": {
    "deletable": false,
    "editable": false,
    "run_control": {
     "frozen": true
    }
   },
   "source": [
    "### c)"
   ]
  },
  {
   "cell_type": "markdown",
   "metadata": {
    "deletable": false,
    "run_control": {
     "frozen": true
    }
   },
   "source": [
    "Hvis brukeren skriver inn et større tall for hvor mange epler man kan gi bort enn hva man faktisk hadde, kommer siste linje ut med et negativt tall.\n",
    "\n",
    "Utvid funksjonen ytterligere slik at hvis brukeren f.eks. har 7 epler men vil gi bort 9, avslutter funksjonen med\n",
    "\n",
    "  \n",
    "```python\n",
    "Du har nå 0 epler igjen. Gi meg de 2 du skylder meg neste gang vi møtes.\n",
    "```"
   ]
  },
  {
   "cell_type": "code",
   "execution_count": null,
   "metadata": {},
   "outputs": [],
   "source": []
  }
 ],
 "metadata": {
  "celltoolbar": "Edit Metadata",
  "kernelspec": {
   "display_name": "Python 3.10.6 64-bit",
   "language": "python",
   "name": "python3"
  },
  "language_info": {
   "codemirror_mode": {
    "name": "ipython",
    "version": 3
   },
   "file_extension": ".py",
   "mimetype": "text/x-python",
   "name": "python",
   "nbconvert_exporter": "python",
   "pygments_lexer": "ipython3",
   "version": "3.10.6"
  },
  "toc": {
   "base_numbering": 1,
   "nav_menu": {},
   "number_sections": false,
   "sideBar": true,
   "skip_h1_title": false,
   "title_cell": "Table of Contents",
   "title_sidebar": "Contents",
   "toc_cell": false,
   "toc_position": {},
   "toc_section_display": true,
   "toc_window_display": false
  },
  "vscode": {
   "interpreter": {
    "hash": "95cdb06e919eab5e2c554174537356ac9b55200d1eb6f880dc25de04343a18ea"
   }
  }
 },
 "nbformat": 4,
 "nbformat_minor": 2
}
