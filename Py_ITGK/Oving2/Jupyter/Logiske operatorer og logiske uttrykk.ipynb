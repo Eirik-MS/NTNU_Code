{
 "cells": [
  {
   "cell_type": "markdown",
   "metadata": {
    "deletable": false,
    "run_control": {
     "frozen": true
    }
   },
   "source": [
    "<nav class=\"navbar navbar-default\">\n",
    "  <div class=\"container-fluid\">\n",
    "    <div class=\"navbar-header\">\n",
    "      <a class=\"navbar-brand\" href=\"_Oving2.ipynb\">Øving 2</a>\n",
    "    </div>\n",
    "    <ul class=\"nav navbar-nav\">\n",
    "    <li><a href=\"Ulike%20typer%20if-setninger.ipynb\">Ulike typer if-setninger</a></li>\n",
    "    <li><a href=\"Sammenligning%20av%20strenger.ipynb\">Sammenligning av strenger</a></li>\n",
    "    <li><a href=\"Logiske%20operatorer%20og%20logiske%20uttrykk.ipynb\">Logiske operatorer og logiske uttrykk</a></li>\n",
    "    <li><a href=\"Forbrytelse%20og%20straff.ipynb\">Forbrytelse og straff</a></li>\n",
    "    <li ><a href=\"Aarstider.ipynb\">Årstider</a></li>\n",
    "    <li class=\"active\"><a href=\"Tekstbasert%20spill.ipynb\">Tekstbasert spill</a></li>\n",
    "    <li><a href=\"Andregradsligning.ipynb\">Andregradsligning</a></li>\n",
    "    <li><a href=\"Betingede%20funksjoner.ipynb\">Betingede funksjoner</a></li>\n",
    "    <li><a href=\"Sjakkbrett.ipynb\">Sjakkbrett</a></li>\n",
    "    <li><a href=\"Billettpriser%20og%20rabatter.ipynb\">Billettpriser og rabatter</a></li>\n",
    "    <li><a href=\"Skatteetaten.ipynb\">Skatteetaten</a></li>\n",
    "    <li><a href=\"Epletigging.ipynb\">Datamaskinen som tigget epler</a></li>\n",
    "    </ul>\n",
    "  </div>\n",
    "</nav>\n",
    "\n",
    "# Logiske operatorer og logiske uttrykk\n",
    "\n",
    "**Læringsmål:**\n",
    "- Logiske uttrykk\n",
    "- Betingelser\n",
    "- Kodeforståelse\n",
    "- Funksjoner\n",
    "\n",
    "I denne oppgaven skal vi lære om logiske uttrykk og hvordan de kan settes sammen med `and`, `or` og `not`."
   ]
  },
  {
   "cell_type": "markdown",
   "metadata": {
    "deletable": false,
    "editable": false,
    "heading_collapsed": true,
    "run_control": {
     "frozen": true
    }
   },
   "source": [
    "## Generelt om logiske operatorer og logiske uttrykk\n",
    "\n",
    "Dette er ikke en del av oppgaven, men kan være lurt å lese før du begynner."
   ]
  },
  {
   "cell_type": "markdown",
   "metadata": {
    "deletable": false,
    "editable": false,
    "hidden": true,
    "run_control": {
     "frozen": true
    }
   },
   "source": [
    "I de tidligere oppgavene i denne øvingen var alle betingelsene enkle betingelser hvor vi typisk sammenlignet to verdier. De vanlige operatorene vi har for å sammenligne verdier er:\n",
    "\n",
    "- `==` (som betyr \"er lik\", merk at her er to likhetstegn nødvendig for å skille fra tilordningsoperatoren)\n",
    "- `!=` (som betyr \"ulik\", altså det motsatte av ==)\n",
    "- `>` , `<` , `>=` , `<=` (som betyr henholdsvis større, mindre, større eller lik, og mindre eller lik)\n",
    "\n",
    "Ofte kan beslutninger være avhengig av verdien til **flere** variable, eller for den del flere betingelser for samme variabel.\n",
    "\n",
    "Ved hjelp av logiske operatorer kan vi teste for flere betingelser i samme if-setning. Eksemplet nedenfor viser et lite program som leser inn temperatur og vind og så skal skrive et varsel om ekstremvær hvis det er kaldere enn -30, varmere enn 40, eller mer vind enn 20 m/s.\n",
    "\n",
    "Her viser vi dette løst på to alternative måter, først med enkle betingelser og en if-elif-setning (linje 5-10), deretter med en enkelt if-setning med en sammensatt betingelse med `or` mellom (linje 13-14). **OBS:** Trykk på View -> Toggle Line Numbers i menyen på toppen for å se linjenummer.\n",
    "\n",
    "Når det står `or` mellom betingelser er det nok at en av dem er sann for at hele uttrykket skal bli sant (men også sant om begge er sanne); den sammensatte varianten vil dermed gi samme resultat som if-elif-setningen bare at vi med vilje har droppet utropstegn i siste print så du lett skal se hva som er hva."
   ]
  },
  {
   "cell_type": "code",
   "execution_count": 6,
   "metadata": {
    "hidden": true
   },
   "outputs": [
    {
     "data": {
      "text/plain": [
       "'VARSEL: Ekstremvær!'"
      ]
     },
     "execution_count": 6,
     "metadata": {},
     "output_type": "execute_result"
    }
   ],
   "source": [
    "########## Eksempel 1 ##########\n",
    "\n",
    "# VARIANT MED if-elif\n",
    "def ekstremvær_if_elif(temp, vind):\n",
    "    if temp < -30:\n",
    "        return \"VARSEL: Ekstremvær!\"\n",
    "    elif temp > 40:\n",
    "        return \"VARSEL: Ekstremvær!\"\n",
    "    elif vind > 20:\n",
    "        return \"VARSEL: Ekstremvær!\"\n",
    "    \n",
    "ekstremvær_if_elif(50, 2)"
   ]
  },
  {
   "cell_type": "code",
   "execution_count": 3,
   "metadata": {},
   "outputs": [
    {
     "data": {
      "text/plain": [
       "'VARSEL: Ekstremvær'"
      ]
     },
     "execution_count": 3,
     "metadata": {},
     "output_type": "execute_result"
    }
   ],
   "source": [
    "########## Eksempel 2 ##########\n",
    "\n",
    "# VARIANT MED SAMMENSATT BETINGELSE\n",
    "def ekstremvær_sammensatt(temp, vind):\n",
    "    if temp < -30 or temp > 40 or vind > 20:\n",
    "        return \"VARSEL: Ekstremvær\"\n",
    "\n",
    "ekstremvær_sammensatt(10, 40)"
   ]
  },
  {
   "cell_type": "markdown",
   "metadata": {
    "deletable": false,
    "editable": false,
    "hidden": true,
    "run_control": {
     "frozen": true
    }
   },
   "source": [
    "Merk at varianten med sammensatt betingelse kun funker her fordi det er samme tekst som skal skrives i alle de tre tilfellene. Hvis utskriften skulle ha vært mer spesifikk (f.eks. ekstremt kaldt / ekstremt varmt / ...), måtte vi ha brukt if-elif...\n",
    "\n",
    "Tilsvarende kan vi i noen tilfeller unngå nøstede if-setninger (linje 5-7 i eksemplet under) ved å sette sammen betingelser med `and` (linje 10-11 under). Når det er `and` mellom to betingelser, må **begge** være sanne for at hele uttrykket skal bli sant."
   ]
  },
  {
   "cell_type": "code",
   "execution_count": 4,
   "metadata": {
    "ExecuteTime": {
     "end_time": "2019-07-02T06:42:19.110725Z",
     "start_time": "2019-07-02T06:42:10.950922Z"
    },
    "hidden": true
   },
   "outputs": [
    {
     "name": "stdout",
     "output_type": "stream",
     "text": [
      "Regn i mm: 0.3\n",
      "Vind i sekundmeter: 6.0\n",
      "Anbefaler paraply.\n"
     ]
    }
   ],
   "source": [
    "########## Eksempel 3 ##########\n",
    "\n",
    "def paraply(regn, vind):\n",
    "    print(f\"Regn i mm: {regn}\")\n",
    "    print(f\"Vind i sekundmeter: {vind}\")\n",
    "    \n",
    "    # VARIANT MED NØSTEDE if-setninger\n",
    "    if regn > 0.2:\n",
    "        if vind < 7.0:\n",
    "            return \"Anbefaler paraply.\"\n",
    "    return \"Anbefaler ikke paraply\"\n",
    "        \n",
    "\n",
    "anbefaling = paraply(0.3, 6.0)\n",
    "print(anbefaling)"
   ]
  },
  {
   "cell_type": "code",
   "execution_count": 5,
   "metadata": {},
   "outputs": [
    {
     "name": "stdout",
     "output_type": "stream",
     "text": [
      "Regn i mm: 0.3\n",
      "Vind i sekundmeter: 6.0\n",
      "Anbefaler paraply.\n"
     ]
    }
   ],
   "source": [
    "########## Eksempel 4 ##########\n",
    "\n",
    "def paraply_sammensatt(regn, vind):\n",
    "    print(f\"Regn i mm: {regn}\")\n",
    "    print(f\"Vind i sekundmeter: {vind}\")\n",
    "    \n",
    "    # VARIANT MED SAMMENSATT BETINGELSE\n",
    "    if regn > 0.2 and vind < 7.0:\n",
    "        return \"Anbefaler paraply.\"\n",
    "    return \"Anbefaler ikke paraply\"\n",
    "\n",
    "anbefaling = paraply_sammensatt(0.3, 6.0)\n",
    "print(anbefaling)"
   ]
  },
  {
   "cell_type": "markdown",
   "metadata": {
    "deletable": false,
    "hidden": true,
    "run_control": {
     "frozen": true
    }
   },
   "source": [
    "I begge de foregående eksemplene vil nok de fleste si at variantene med sammensatte betingelser er klart å foretrekke framfor if-elif eller nøstet if. Bruk av sammensatte betingelser gjør koden kortere og enklere å forstå.\n",
    "\n",
    "Det er typisk tre operatorer vi bruker for å sette sammen betingelser: `and`, `or`, `not`\n",
    "\n",
    "Disse virker på følgende måte:\n",
    "\n",
    "- betingelse1 `and` betingelse2 blir True (sant) bare hvis **både** betingelse1 og betingelse2 er True, ellers blir uttrykket False (usant)\n",
    "- betingelse1 `or` betingelse2 blir True (sann) hvis **minst en** av betingelsene er True, ellers False\n",
    "- `not` betingelse1 blir True hvis betingelse1 er False, og False hvis betingelse1 er True\n",
    "- Man kan sette sammen mer komplekse betingelser ved å bruke flere av dem. \n",
    "\n",
    "Presedensregler: `not` har større presedens enn `and`, som har større enn `or`.\n",
    "\n",
    "F.eks. anta at\n",
    "\n",
    "`if regn > 0.2 and vind < 7.0 or solbrentfare > 0.9 and not solkrembeholdning > 0:` er gitt som betingelse for å ta med paraply\n",
    "\n",
    "Ifølge presedensreglene vil `not` evalueres først, deretter `and`, og til slutt `or`. Uttrykket kan dermed ses som to alternative måter for å anbefale paraply (delt av `or` i midten), nemlig:\n",
    "\n",
    "ENTEN at både `regn > 0.2` og `vind < 0.7` er sanne. Det spiller da ingen rolle hvilken verdi vi har for solbrentfare osv. (siden den har `or` foran seg)\n",
    "ELLER at `solbrentfare > 0.9` er sann, samtidig som `solkrembeholdning > 0` er usann (slik at `not solkrembeholdning > 0` vil være sann)\n",
    "I det siste tilfellet er det rimelig å anta at paraply er tenkt å beskytte mot sol, ikke mot regn.\n",
    "\n",
    "Merk at selv om sammensatte betingelser gjorde koden kortere og enklere å forstå i eksemplene over, er ikke dette alltid tilfelle. Hvis man ender med veldig store sammensatte betingelser, vil disse i seg selv være vanskelig å forstå, slik at kanskje noe oppsplitting med if-elif... eller nøsting av if-setninger kunne ha vært bedre.\n",
    "\n",
    "Men se først om det er mulig å skrive betingelsen enklere. Dette gjelder særlig hvis det er mye bruk av `not`. Akkurat som mye bruk av negasjoner i vanlig norsk vil gjøre en tekst vanskelig å forstå, vil mye bruk av `not` gjøre Python-betingelser vanskelige å forstå - og kunne kanskje vært unngått. F.eks.\n",
    "\n",
    "- `not a < 10` kan like gjerne skrives `a >= 10`\n",
    "- `not a == 10` kan like gjerne skrives `a != 10`\n",
    "- `not (c < 0 or c > 255)` kan like gjerne skrives `c >= 0 and c <= 255` eller enda enklere `0 <= c <= 255`.\n",
    "Det fins tilfeller hvor `not` er lurt å bruke, men bruk den med måte, bare når bedre alternativer ikke finnes."
   ]
  },
  {
   "cell_type": "markdown",
   "metadata": {
    "deletable": false,
    "editable": false,
    "run_control": {
     "frozen": true
    }
   },
   "source": [
    "## a)"
   ]
  },
  {
   "cell_type": "markdown",
   "metadata": {
    "deletable": false,
    "editable": false,
    "run_control": {
     "frozen": true
    }
   },
   "source": [
    "Hvilke av de følgende logiske uttrykkene vil gi True om `x=3`, `y=8` og `z=-3`?\n",
    "\n",
    "Uttrykk 1: `-5 < z and 5 > z`  \n",
    "Uttrykk 2: `not y == 8`  \n",
    "Uttrykk 3: `x == 8 or y == 8`  \n",
    "Uttrykk 4: `not (x <= 3 or y >= 9)`  \n",
    "Uttrykk 5: `not (x**2 != 8 and y-z == 5) or x+y == y-z`  \n",
    "\n",
    "Dobbelklikk på teksten under og skriv svaret ditt der:"
   ]
  },
  {
   "cell_type": "markdown",
   "metadata": {
    "hide_input": false
   },
   "source": [
    "Svar: < dobbeltklikk her>"
   ]
  },
  {
   "cell_type": "markdown",
   "metadata": {
    "deletable": false,
    "editable": false,
    "heading_collapsed": true,
    "run_control": {
     "frozen": true
    }
   },
   "source": [
    "#### Hint"
   ]
  },
  {
   "cell_type": "markdown",
   "metadata": {
    "deletable": false,
    "editable": false,
    "hidden": true,
    "run_control": {
     "frozen": true
    }
   },
   "source": [
    "Om du sliter kan du sjekke ved å skrive et program som gir x, y og z verdiene 3, 8, -3 og bruke `print(<logisk uttrykk>)`.\n",
    "\n",
    "Husk presedensregler: `not` har større presedens enn `and`, som har større enn `or`.  \n",
    "Du kan teste kode her:"
   ]
  },
  {
   "cell_type": "code",
   "execution_count": null,
   "metadata": {
    "hidden": true
   },
   "outputs": [],
   "source": []
  },
  {
   "cell_type": "markdown",
   "metadata": {
    "deletable": false,
    "editable": false,
    "run_control": {
     "frozen": true
    }
   },
   "source": [
    "## b)"
   ]
  },
  {
   "cell_type": "markdown",
   "metadata": {
    "deletable": false,
    "run_control": {
     "frozen": true
    }
   },
   "source": [
    "Nedenfor følger en funksjon der brukeren skal gi to tall innenfor et lovlig verdiområde. Det lovlige verdiområdet er mellom 40-50 eller mellom 70-90. Om ikke begge tallene som gis som argumenter harlovlig verdi, skal koden i else-blokken returneres.\n",
    "\n",
    "Dessverre er det feil i koden som gjør at den ikke fungerer slik den skal. Din oppgave er å rette opp i disse feilene.\n",
    "\n",
    "***Rett opp feilene under og sjekk at koden fungerer for alle tilfeller***"
   ]
  },
  {
   "cell_type": "code",
   "execution_count": 10,
   "metadata": {},
   "outputs": [
    {
     "name": "stdout",
     "output_type": "stream",
     "text": [
      "Gi inn a og b, begge heltall i intervall <40,50> eller <70,90>:\n"
     ]
    }
   ],
   "source": [
    "print(\"Gi inn a og b, begge heltall i intervall <40,50> eller <70,90>:\" )\n",
    "\n",
    "def gyldige_tall(a, b):\n",
    "    if (a>70 and a<<90) or (a>40 and not a>=50) and (70<b<90 or (b>40 and b<50)):\n",
    "        return \"Tallene er begge i gyldige intervall!\"\n",
    "    else:\n",
    "        return \"Minst ett av tallene er utenfor et gyldig intervall :(\""
   ]
  },
  {
   "cell_type": "markdown",
   "metadata": {
    "deletable": false,
    "editable": false,
    "heading_collapsed": true,
    "run_control": {
     "frozen": true
    }
   },
   "source": [
    "#### Hint"
   ]
  },
  {
   "cell_type": "markdown",
   "metadata": {
    "deletable": false,
    "editable": false,
    "hidden": true,
    "run_control": {
     "frozen": true
    }
   },
   "source": [
    "Husk parenteser!"
   ]
  },
  {
   "cell_type": "markdown",
   "metadata": {
    "deletable": false,
    "editable": false,
    "run_control": {
     "frozen": true
    }
   },
   "source": [
    "## c)"
   ]
  },
  {
   "cell_type": "markdown",
   "metadata": {
    "deletable": false,
    "run_control": {
     "frozen": true
    }
   },
   "source": [
    "Du skal i denne oppgaven fullføre funksjonen gitt nedenfor slik at den fungerer korrekt. Det er blitt laget 10 pannekaker, noe som er mer enn datamaskinen klarer å spise, og den ønsker å dele noen av dem med deg. Men om du er grådig og spør om å få flere enn 10, vil du få beskjed om at det ikke er mulig. Om du derimot ønsker å gi datamaskinen pannekaker (skriver inn et negativt tall som argument til funksjonen), vil du også få beskjed om at det ikke er mulig. ***Endre på koden under***"
   ]
  },
  {
   "cell_type": "code",
   "execution_count": null,
   "metadata": {},
   "outputs": [],
   "source": [
    "print(\"Hei! Jeg har 10 pannekaker jeg ønsker å dele med deg\")\n",
    "  \n",
    "def antall_pannekaker(n):\n",
    "    if ...:             #Kode mangler her\n",
    "        return \"Beklager, men det er nok ikke mulig\"\n",
    "    else:\n",
    "        r = 10-p\n",
    "        return f\"Da blir det {p} på deg og {r} på meg :D\""
   ]
  },
  {
   "cell_type": "markdown",
   "metadata": {
    "deletable": false,
    "run_control": {
     "frozen": true
    }
   },
   "source": [
    "**Eksempel på kjøring**\n",
    "\n",
    "```\n",
    "Hei! Jeg har 10 pannekaker jeg ønsker å dele med deg\n",
    "antall_pannekaker(4)\n",
    "Da blir det 4 på deg og 6 på meg :D\n",
    "```\n",
    "  \n",
    "```\n",
    "Hei! Jeg har 10 pannekaker jeg ønsker å dele med deg ^u^\n",
    "antall_pannekaker(100)\n",
    "Beklager, men det er nok ikke mulig\n",
    "```"
   ]
  },
  {
   "cell_type": "markdown",
   "metadata": {
    "deletable": false,
    "editable": false,
    "run_control": {
     "frozen": true
    }
   },
   "source": [
    "## d)"
   ]
  },
  {
   "cell_type": "markdown",
   "metadata": {
    "deletable": false,
    "run_control": {
     "frozen": true
    }
   },
   "source": [
    "I denne deloppgaven skal pannekakefunksjonen utvides. Det skal nå også ta inn et argument om personen liker pannekaker og lagre det i en boolsk variabel, som vist i koden under (merk: `'J'` betyr at personen liker pannekaker, og `'N'` betyr at personen ikke liker pannekaker:\n",
    "```python\n",
    "print(\"Hei! Jeg har 10 pannekaker jeg ønsker å dele med deg\")\n",
    "\n",
    "def antall_pannekaker(n, liker):\n",
    "    if liker == 'J':\n",
    "        liker_pannekaker = True\n",
    "    else:\n",
    "        liker_pannekaker = False\n",
    "    ...\n",
    "```\n",
    "\n",
    "Pannekakeprogrammet elsker pannekaker og er lite forståelsesfull ovenfor de som ikke gjør det. Derfor, om `liker_pannekaker` er `False`, skal det også svare \"...ikke mulig\" selv om brukeren ber om et antall pannekaker innenfor lovlig intervall <0,10>.\n",
    "\n",
    "Din jobb er å samle alle disse betingelsene i et logisk uttrykk og skrive dette logiske uttrykk inn i koden nedenfor (der ... står), slik at programmet får rett oppførsel. ***Endre på koden under***"
   ]
  },
  {
   "cell_type": "code",
   "execution_count": 12,
   "metadata": {},
   "outputs": [
    {
     "name": "stdout",
     "output_type": "stream",
     "text": [
      "Hei! Jeg har 10 pannekaker jeg ønsker å dele med deg ^u^\n"
     ]
    }
   ],
   "source": [
    "print(\"Hei! Jeg har 10 pannekaker jeg ønsker å dele med deg ^u^\")\n",
    "def antall_pannekaker(n, liker):\n",
    "    if liker == 'J':\n",
    "        liker_pannekaker = True\n",
    "    else:\n",
    "        liker_pannekaker = False\n",
    "  \n",
    "    if ...:             #Kode mangler her\n",
    "        return \"Beklager, men det er nok ikke mulig\"\n",
    "    else:\n",
    "        r = 10-p\n",
    "        return f\"Da blir det {p} på deg og {r} på meg :D\""
   ]
  },
  {
   "cell_type": "markdown",
   "metadata": {
    "deletable": false,
    "run_control": {
     "frozen": true
    }
   },
   "source": [
    "**Eksempel på kjøring**\n",
    "```\n",
    "Hei! Jeg har 10 pannekaker jeg ønsker å dele med deg\n",
    "antall_pannekaker(5, 'J')\n",
    "Da blir det 5 på deg og 5 på meg :D\n",
    "```\n",
    "\n",
    "```\n",
    "Hei! Jeg har 10 pannekaker jeg ønsker å dele med deg ^u^\n",
    "antall_pannekaker(7, 'N')\n",
    "Beklager, men det er nok ikke mulig\n",
    "```"
   ]
  },
  {
   "cell_type": "code",
   "execution_count": null,
   "metadata": {},
   "outputs": [],
   "source": []
  }
 ],
 "metadata": {
  "celltoolbar": "Edit Metadata",
  "kernelspec": {
   "display_name": "Python 3",
   "language": "python",
   "name": "python3"
  },
  "language_info": {
   "codemirror_mode": {
    "name": "ipython",
    "version": 3
   },
   "file_extension": ".py",
   "mimetype": "text/x-python",
   "name": "python",
   "nbconvert_exporter": "python",
   "pygments_lexer": "ipython3",
   "version": "3.9.2"
  },
  "toc": {
   "base_numbering": 1,
   "nav_menu": {},
   "number_sections": false,
   "sideBar": true,
   "skip_h1_title": false,
   "title_cell": "Table of Contents",
   "title_sidebar": "Contents",
   "toc_cell": false,
   "toc_position": {},
   "toc_section_display": true,
   "toc_window_display": false
  }
 },
 "nbformat": 4,
 "nbformat_minor": 2
}
