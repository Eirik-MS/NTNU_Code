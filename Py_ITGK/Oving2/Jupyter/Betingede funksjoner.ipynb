{
 "cells": [
  {
   "cell_type": "markdown",
   "id": "quantitative-retrieval",
   "metadata": {},
   "source": [
    "<nav class=\"navbar navbar-default\">\n",
    "  <div class=\"container-fluid\">\n",
    "    <div class=\"navbar-header\">\n",
    "      <a class=\"navbar-brand\" href=\"_Oving2.ipynb\">Øving 2</a>\n",
    "    </div>\n",
    "    <ul class=\"nav navbar-nav\">\n",
    "    <li><a href=\"Ulike%20typer%20if-setninger.ipynb\">Ulike typer if-setninger</a></li>\n",
    "    <li><a href=\"Sammenligning%20av%20strenger.ipynb\">Sammenligning av strenger</a></li>\n",
    "    <li><a href=\"Logiske%20operatorer%20og%20logiske%20uttrykk.ipynb\">Logiske operatorer og logiske uttrykk</a></li>\n",
    "    <li><a href=\"Forbrytelse%20og%20straff.ipynb\">Forbrytelse og straff</a></li>\n",
    "    <li ><a href=\"Aarstider.ipynb\">Årstider</a></li>\n",
    "    <li class=\"active\"><a href=\"Tekstbasert%20spill.ipynb\">Tekstbasert spill</a></li>\n",
    "    <li><a href=\"Andregradsligning.ipynb\">Andregradsligning</a></li>\n",
    "    <li><a href=\"Betingede%20funksjoner.ipynb\">Betingede funksjoner</a></li>\n",
    "    <li><a href=\"Sjakkbrett.ipynb\">Sjakkbrett</a></li>\n",
    "    <li><a href=\"Billettpriser%20og%20rabatter.ipynb\">Billettpriser og rabatter</a></li>\n",
    "    <li><a href=\"Skatteetaten.ipynb\">Skatteetaten</a></li>\n",
    "    <li><a href=\"Epletigging.ipynb\">Datamaskinen som tigget epler</a></li>\n",
    "    </ul>\n",
    "  </div>\n",
    "</nav>\n",
    "\n",
    "# Betingede funksjoner\n",
    "\n",
    "**Læringsmål:**\n",
    "\n",
    "- Betingelser\n",
    "- Funksjoner\n",
    "\n",
    "Først importerer vi et nødvendig eksternt bibliotek, `numpy` som vi kommer til å benytte til matematiske beregninger i denne oppgaven. "
   ]
  },
  {
   "cell_type": "code",
   "execution_count": 9,
   "id": "divided-boston",
   "metadata": {},
   "outputs": [],
   "source": [
    "import numpy as np\n",
    "import math"
   ]
  },
  {
   "cell_type": "markdown",
   "id": "stretch-mexican",
   "metadata": {},
   "source": [
    "I den matematiske verden er det en rekke funksjoner som har ulike funksjonsuttrykk for ulike input-verdier. Den naturlige logaritmen $ln(x)$ er definert for alle reelle verdier større enn 0. Dette kan skrives som følger:\n",
    "\n",
    "$ f(x) = \\begin{cases} ln(x), \\text{ if } x > 0\\\\ \\text{undef.}, \\text{ if } x \\leqslant 0 \\end{cases}$\n",
    "\n",
    "I Python kan vi håndtere dette ved å undersøke hvilken input som gis til funksjonen, og returnere den riktige verdien, slik det er gjort i eksempelet nedenfor."
   ]
  },
  {
   "cell_type": "code",
   "execution_count": 10,
   "id": "comprehensive-queue",
   "metadata": {},
   "outputs": [],
   "source": [
    "def f(x):\n",
    "    if x <= 0:\n",
    "        return\n",
    "    return np.log(x)"
   ]
  },
  {
   "cell_type": "code",
   "execution_count": 11,
   "id": "freelance-invitation",
   "metadata": {},
   "outputs": [],
   "source": [
    "# Dersom vi gir en negativ verdi som input, forventer vi tom output\n",
    "f(-2)"
   ]
  },
  {
   "cell_type": "code",
   "execution_count": null,
   "id": "turkish-daughter",
   "metadata": {},
   "outputs": [
    {
     "ename": "",
     "evalue": "",
     "output_type": "error",
     "traceback": [
      "\u001b[1;31mRunning cells with 'Python 3.10.6 64-bit (microsoft store)' requires ipykernel package.\n",
      "\u001b[1;31mRun the following command to install 'ipykernel' into the Python environment. \n",
      "\u001b[1;31mCommand: '\"c:/Users/Eirik Mathias/AppData/Local/Microsoft/WindowsApps/python3.10.exe\" -m pip install ipykernel -U --force-reinstall'"
     ]
    }
   ],
   "source": [
    "# Dersom vi gir en positiv verdi, forventer vi at denne skal være lik den naturlige logaritmen som output\n",
    "f(math.e)"
   ]
  },
  {
   "cell_type": "markdown",
   "id": "biological-lingerie",
   "metadata": {},
   "source": [
    "## a) Implementer betinget funksjon med variabel i nevner\n",
    "\n",
    "Som kjent er det en dårlig idé å dele på 0 i matematikken. I denne oppgaven skal du implementere en funksjon som genererer riktig output for den matematiske funksjonen for alle verdier av $x$, der $f(x) = 0$ når $x = 0$:\n",
    "\n",
    "$f(x) = x^2 sin(\\frac{1}{x})$\n",
    "\n",
    "**Skriv koden din her:**"
   ]
  },
  {
   "cell_type": "code",
   "execution_count": 14,
   "id": "viral-objective",
   "metadata": {},
   "outputs": [],
   "source": [
    "def f(x):\n",
    "    \"\"\"Skriv kode her:\"\"\""
   ]
  },
  {
   "cell_type": "markdown",
   "id": "focused-secondary",
   "metadata": {},
   "source": [
    "## b) Beregning av en fallskjermhoppers hastighet\n",
    "\n",
    "I denne oppgaven skal det implementeres en funksjon for å returnere hastigheten til en fallskjermhopper før fallskjermen utløses som en funksjon av hvor lenge det er siden hopperen forlot flyet. Vi antar at det er to tilfeller:\n",
    "\n",
    "1. Perioden før hopperen når sin terminalfart\n",
    "2. Perioden når hopperen beveger seg i terminalfart\n",
    "\n",
    "**Perioden før terminalfart:**\n",
    "Ved $t=0$ antar vi at farten er 0. Deretter er det en lineær sammenheng mellom tiden og hastigheten, denne sammenhengen er gitt ved forenklede ligningen:\n",
    "\n",
    "$ v(t) = t \\cdot g$\n",
    "\n",
    "Der $g$ er tyngdeakselerasjonen (nøyaktighet på en desimalplass er tilstrekkelig) og $t$ er tiden siden hoppet startet.\n",
    "\n",
    "**Perioden etter terminalhastighet er oppnådd:**\n",
    "For enkelhets skyld antar vi at alle hoppere, uavhengig av vekt, oppnår terminalhastighet etter like lang tid, nemlig etter $t=10$. Hastigheten til hopperen etter dette er tidsuavhengig, og er gitt ved ligningen:\n",
    "\n",
    "$v_{terminal} = 10 \\cdot g$\n",
    "\n",
    "Du skal skrive en funksjon som tar inn et tidspunkt, og returnerer hastigheten til hopperen på det gitte tidspunktet.\n",
    "\n",
    "**Skriv koden din her:**"
   ]
  },
  {
   "cell_type": "code",
   "execution_count": 15,
   "id": "altered-symphony",
   "metadata": {},
   "outputs": [],
   "source": [
    "def hastighet(tid):\n",
    "    \"\"\"Skriv kode her:\"\"\""
   ]
  },
  {
   "cell_type": "markdown",
   "id": "leading-depth",
   "metadata": {},
   "source": [
    "Under kan du undersøke om funksjonen du har skrevet fungerer som den skal:"
   ]
  },
  {
   "cell_type": "code",
   "execution_count": null,
   "id": "portable-serum",
   "metadata": {},
   "outputs": [],
   "source": [
    "print(hastighet(5))\n",
    "print(\"Riktig svar: 49 m/s\")\n",
    "\n",
    "print(hastighet(0))\n",
    "print(\"Riktig svar: 0 m/s\")\n",
    "\n",
    "print(hastighet(15))\n",
    "print(\"Riktig svar: 98 m/s\")\n",
    "\n",
    "print(hastighet(10))\n",
    "print(\"Riktig svar: 98 m/s\")"
   ]
  },
  {
   "cell_type": "markdown",
   "id": "timely-worthy",
   "metadata": {},
   "source": [
    "## c) Mer realistisk modellering av fallskjermhopperens hastighet (FRIVILLIG)"
   ]
  },
  {
   "cell_type": "markdown",
   "id": "governing-aquarium",
   "metadata": {},
   "source": [
    "Implementeres muligens senere"
   ]
  },
  {
   "cell_type": "code",
   "execution_count": null,
   "id": "naked-today",
   "metadata": {},
   "outputs": [],
   "source": []
  }
 ],
 "metadata": {
  "celltoolbar": "Edit Metadata",
  "kernelspec": {
   "display_name": "Python 3.10.6 64-bit (microsoft store)",
   "language": "python",
   "name": "python3"
  },
  "language_info": {
   "codemirror_mode": {
    "name": "ipython",
    "version": 3
   },
   "file_extension": ".py",
   "mimetype": "text/x-python",
   "name": "python",
   "nbconvert_exporter": "python",
   "pygments_lexer": "ipython3",
   "version": "3.10.6"
  },
  "vscode": {
   "interpreter": {
    "hash": "f18561201bc8a743d25673a67091999f27d96eca938558d598b3ca2ca257fb18"
   }
  }
 },
 "nbformat": 4,
 "nbformat_minor": 5
}
