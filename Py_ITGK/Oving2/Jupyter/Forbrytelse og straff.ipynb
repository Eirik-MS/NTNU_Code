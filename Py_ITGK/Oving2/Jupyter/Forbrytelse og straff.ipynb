{
 "cells": [
  {
   "cell_type": "markdown",
   "metadata": {
    "deletable": false,
    "editable": false,
    "run_control": {
     "frozen": true
    }
   },
   "source": [
    "<nav class=\"navbar navbar-default\">\n",
    "  <div class=\"container-fluid\">\n",
    "    <div class=\"navbar-header\">\n",
    "      <a class=\"navbar-brand\" href=\"_Oving2.ipynb\">Øving 2</a>\n",
    "    </div>\n",
    "    <ul class=\"nav navbar-nav\">\n",
    "    <li><a href=\"Ulike%20typer%20if-setninger.ipynb\">Ulike typer if-setninger</a></li>\n",
    "    <li><a href=\"Sammenligning%20av%20strenger.ipynb\">Sammenligning av strenger</a></li>\n",
    "    <li><a href=\"Logiske%20operatorer%20og%20logiske%20uttrykk.ipynb\">Logiske operatorer og logiske uttrykk</a></li>\n",
    "    <li><a href=\"Forbrytelse%20og%20straff.ipynb\">Forbrytelse og straff</a></li>\n",
    "    <li ><a href=\"Aarstider.ipynb\">Årstider</a></li>\n",
    "    <li class=\"active\"><a href=\"Tekstbasert%20spill.ipynb\">Tekstbasert spill</a></li>\n",
    "    <li><a href=\"Andregradsligning.ipynb\">Andregradsligning</a></li>\n",
    "    <li><a href=\"Betingede%20funksjoner.ipynb\">Betingede funksjoner</a></li>\n",
    "    <li><a href=\"Sjakkbrett.ipynb\">Sjakkbrett</a></li>\n",
    "    <li><a href=\"Billettpriser%20og%20rabatter.ipynb\">Billettpriser og rabatter</a></li>\n",
    "    <li><a href=\"Skatteetaten.ipynb\">Skatteetaten</a></li>\n",
    "    <li><a href=\"Epletigging.ipynb\">Datamaskinen som tigget epler</a></li>\n",
    "    </ul>\n",
    "  </div>\n",
    "</nav>\n",
    "\n",
    "# Forbrytelse og straff"
   ]
  },
  {
   "cell_type": "markdown",
   "metadata": {
    "deletable": false,
    "editable": false,
    "run_control": {
     "frozen": true
    }
   },
   "source": [
    "**Læringsmål:**\n",
    "- Kodeforståelse, hvordan tenke om oppsett av if-setninger\n",
    "- Kunne forstå og rette typiske feil med if-setninger"
   ]
  },
  {
   "cell_type": "markdown",
   "metadata": {
    "deletable": false,
    "editable": false,
    "run_control": {
     "frozen": true
    }
   },
   "source": [
    "I denne oppgaven skal vi rette kodefeil og lære hvordan man tenker om strukturen av både enkle og komplekse if-setninger."
   ]
  },
  {
   "cell_type": "markdown",
   "metadata": {
    "deletable": false,
    "editable": false,
    "heading_collapsed": true,
    "run_control": {
     "frozen": true
    }
   },
   "source": [
    "#### Forklaring av syntaksfeil (hint oppg a)"
   ]
  },
  {
   "cell_type": "markdown",
   "metadata": {
    "deletable": false,
    "editable": false,
    "hidden": true,
    "run_control": {
     "frozen": true
    }
   },
   "source": [
    "Noen typiske syntaksfeil som nybegynnere gjerne gjør i bruk av if-setninger:\n",
    "\n",
    "- Glemme kolon bakerst i linjer med `if`, `else` og `elif`. Det må være kolon `:` disse stedene\n",
    "- Feil med logiske operatorer, f.eks. bruke tilordning = når man egentlig mener sammenligning `==`. Eller unødig mellomrom i operatorer som skrives med to symboler, som `> =`, disse må stå helt inntil hverandre\n",
    "- Feil med parenteser som ikke matcher i sammensatte logiske uttrykk med `and`, `or`, `not`\n",
    "- Feil med marg / innrykk - alle setninger som hører til en if må stå med eksakt ett tabulator-innrykk, en else må stå på eksakt samme marg som den if den hører sammen med, etc. Bare ett mellomrom i forskjell vil være nok til at koden feiler."
   ]
  },
  {
   "cell_type": "markdown",
   "metadata": {
    "deletable": false,
    "editable": false,
    "run_control": {
     "frozen": true
    }
   },
   "source": [
    "## a) Syntaksfeil"
   ]
  },
  {
   "cell_type": "markdown",
   "metadata": {
    "deletable": false,
    "editable": false,
    "run_control": {
     "frozen": true
    }
   },
   "source": [
    "Kjør koden under. Som du vil se, inneholder den syntaksfeil i de nederste linjene (if-else-setningen).\n",
    "\n",
    "***Rett alle syntaksfeilene, slik at koden kjører*** og gir en konklusjon ut på skjermen (om det var promillekjøring eller ikke) – for denne deloppgaven behøver ikke konklusjonen være riktig, det er nok å få programmet til å kjøre. NB! Du skal **ikke** slette noen kodelinjer eller betingelser!"
   ]
  },
  {
   "cell_type": "code",
   "execution_count": null,
   "metadata": {},
   "outputs": [],
   "source": [
    "# leser inn data\n",
    "prom = float(input(\"Hvor stor var promillen? \"))\n",
    "motor = input(\"Var farkosten en motorvogn? (j/n) \")\n",
    "f = input(\"Var personen fører av vognen? (j/n) \")\n",
    "leds = input(\"Var personen ledsager ved øvekjøring? (j/n) \")\n",
    "n = input(\"Var det nødrett? (j/n) \")\n",
    " \n",
    "# vurderer straffbarhet\n",
    "if prom < 0.2 and motor = \"j\" and f = \"j\" or leds = = \"j\" and n == \"n\":\n",
    "   print(\"Det var straffbar promillekjøring.\")\n",
    " else\n",
    "    print(\"Ikke straffbart, ingen bot.\")"
   ]
  },
  {
   "cell_type": "markdown",
   "metadata": {
    "deletable": false,
    "editable": false,
    "run_control": {
     "frozen": true
    }
   },
   "source": [
    "## b) Enkle logiske feil"
   ]
  },
  {
   "cell_type": "markdown",
   "metadata": {
    "deletable": false,
    "editable": false,
    "run_control": {
     "frozen": true
    }
   },
   "source": [
    "***Jobb videre med koden fra oppgave (a) hvor du korrigerte syntaksfeilene. Prøv ut programmet med følgende input:***\n",
    "\n",
    "- promille = 0.1, motor = \"j\", fører = \"j\", ledsager = \"n\", nødrett = \"n\". Du vil da se at programmet feilaktig sier at det var promillekjøring selv om promillen var for liten. ***Rett denne feilen (men ikke noe annet)***, kjør programmet med samme input og se at det nå konkluderer rett, test også med promille 0.3 men ellers samme input og se at det gjør rett med dette også. \n",
    "- Kjør deretter programmet med følgende input: promille = 0.1, motor = \"j\", fører = \"n\", ledsager = \"j\", nødrett = \"n\". Du vil se at programmet igjen feilaktig konkluderer med promillekjøring, til tross for rettingen du gjorde i sted. Dette skyldes en litt mer komplisert feil i betingelsen. ***Rett denne feilen*** og test deretter at koden nå virker som den skal med litt ulike kombinasjoner av verdier."
   ]
  },
  {
   "cell_type": "markdown",
   "metadata": {
    "deletable": false,
    "editable": false,
    "heading_collapsed": true,
    "run_control": {
     "frozen": true
    }
   },
   "source": [
    "#### Enkle logiske feil (hint oppgave b)"
   ]
  },
  {
   "cell_type": "markdown",
   "metadata": {
    "deletable": false,
    "editable": false,
    "hidden": true,
    "run_control": {
     "frozen": true
    }
   },
   "source": [
    "Vi går nå videre med enkle logiske feil, som vil føre til at if-setninger kommer til feil konklusjon. Typiske eksempler på slike feil:\n",
    "\n",
    "**(I)** Bruk av feil sammenligningsoperator, f.eks. `<` i stedet for `>`, eller `>` i stedet for `>=`. Koden under viser ett eksempel på dette:"
   ]
  },
  {
   "cell_type": "code",
   "execution_count": null,
   "metadata": {
    "hidden": true
   },
   "outputs": [],
   "source": [
    "alder = int(input(\"Alder: \"))\n",
    "if alder > 18:\n",
    "    print(\"Kunden har lov til å kjøpe vin\")"
   ]
  },
  {
   "cell_type": "markdown",
   "metadata": {
    "deletable": false,
    "editable": false,
    "hidden": true,
    "run_control": {
     "frozen": true
    }
   },
   "source": [
    "Her vil kunden måtte være 19 eller mer for en positiv konklusjon, mens det skulle holdt med 18. Dvs., operatoren skulle vært `>=` , ikke `>`\n",
    "\n",
    "**(II)** Bruk av feil operator (typisk forveksle `and` og `or`) i sammensatte betingelser, eller feil / manglende parentesbruk i sammensatte betingelser. Koden under viser to feilaktige forsøk på å beslutte om en kunde kan kjøpe vin eller ikke (forrige feil med `>=` rettet):"
   ]
  },
  {
   "cell_type": "code",
   "execution_count": null,
   "metadata": {
    "hidden": true
   },
   "outputs": [],
   "source": [
    "# FORSØK 1:\n",
    "alder = int(input(\"Alder: \"))\n",
    "ruset = input(\"Er kunden beruset? (J/N) \")\n",
    "um = input(\"Er kunden umyndiggjort? (J/N) \")\n",
    "if alder >= 18 or ruset == \"N\" or um == \"N\":\n",
    "    print(\"Kunden har lov til å kjøpe vin\")\n",
    "  \n",
    "# FORSØK 2:\n",
    "alder = int(input(\"Alder: \"))\n",
    "ruset = input(\"Er kunden beruset? (J/N) \")\n",
    "um = input(\"Er kunden umyndiggjort? (J/N) \")\n",
    "if alder >= 18 and not ruset == \"J\" or um == \"J\":\n",
    "    print(\"Kunden har lov til å kjøpe vin\")"
   ]
  },
  {
   "cell_type": "markdown",
   "metadata": {
    "deletable": false,
    "editable": false,
    "hidden": true,
    "run_control": {
     "frozen": true
    }
   },
   "source": [
    "Forsøk 1 feiler her fordi man har brukt `or` der man skulle brukt `and`. Alle de tre betingelsene må være tilfredsstilt, siden Polet ikke selger vin til noen som er synlig ruset, eller som man vet er umyndiggjort. En korrekt løsning ville være:"
   ]
  },
  {
   "cell_type": "code",
   "execution_count": null,
   "metadata": {
    "hidden": true
   },
   "outputs": [],
   "source": [
    "# KORREKT LØSNING, VARIANT 1:\n",
    "alder = int(input(\"Alder: \"))\n",
    "ruset = input(\"Er kunden beruset? (J/N) \")\n",
    "um = input(\"Er kunden umyndiggjort? (J/N) \")\n",
    "if alder >= 18 and ruset == \"N\" and um == \"N\":\n",
    "    print(\"Kunden har lov til å kjøpe vin\")"
   ]
  },
  {
   "cell_type": "markdown",
   "metadata": {
    "deletable": false,
    "editable": false,
    "hidden": true,
    "run_control": {
     "frozen": true
    }
   },
   "source": [
    "Forsøk 2 feiler fordi `or` har lavere presedens enn `not` og `and`. Python vil derfor først sjekke betingelsen `alder >= 18 and not ruset==\"J\"`, deretter vil den sette hele dette sammen med `or um == \"J\"`. Dette vil føre til at en person som er umyndiggjort vil få lov til å kjøpe vin uansett, også om man er under 18 og ruset. For at denne betingelsen skal evalueres korrekt må man sette parentes rundt de to betingelsene som har `or` mellom seg som vist nedenfor. Da vil disse to bli sammenholdt først, og begge disse vil bli berørt av det foregående `not`, altså at man **ikke** må være umyndiggjort."
   ]
  },
  {
   "cell_type": "code",
   "execution_count": null,
   "metadata": {
    "hidden": true
   },
   "outputs": [],
   "source": [
    "# KORREKT LØSNING, VARIANT 2:\n",
    "alder = int(input(\"Alder: \"))\n",
    "ruset = input(\"Er kunden beruset? (J/N) \")\n",
    "um = input(\"Er kunden umyndiggjort? (J/N) \")\n",
    "if alder >= 18 and not (ruset == \"J\" or um == \"J\"):\n",
    "    print(\"Kunden har lov til å kjøpe vin\")"
   ]
  },
  {
   "cell_type": "markdown",
   "metadata": {
    "deletable": false,
    "editable": false,
    "hidden": true,
    "run_control": {
     "frozen": true
    }
   },
   "source": [
    "VARIANT 1 og 2 gir eksakt samme resultat - det vil ofte være flere mulige måter å skrive sammensatte betingelser på. I dette tilfellet kan man vel si at Variant 1 er å foretrekke, siden den slipper å bruke `not` og parentes, og dermed blir litt lettere å lese."
   ]
  },
  {
   "cell_type": "markdown",
   "metadata": {
    "deletable": false,
    "editable": false,
    "run_control": {
     "frozen": true
    }
   },
   "source": [
    "## c) Feil i rekkefølge på if-elif-setninger."
   ]
  },
  {
   "cell_type": "markdown",
   "metadata": {
    "deletable": false,
    "editable": false,
    "run_control": {
     "frozen": true
    }
   },
   "source": [
    "Nedenfor er en ny variant av promilleprogrammet. For kjappere testing ser vi nå bort fra spørsmålene om det var motorvogn, om vedkommende førte kjøretøyet, og eventuell nødrett - dvs. vi antar at alt dette i boks fra før, og spørsmål dermed bare er størrelse på promillen og resulterende straff.\n",
    "\n",
    "Kjør programmet nedenfor et par ganger med ulike verdier, f.eks. med promille 0.1 deretter 0.3 deretter 0.9.\n",
    "\n",
    "Som du vil se, vil man aldri få større forelegg enn 6000,- med dette programmet, uansett hvor høy promillen var. Hvis promillen var over 0.4, f.eks. 0.45, skulle man hatt 10000,- i forelegg, og med promille høyere enn 0.5 skulle man hatt bot basert på månedslønn, samt fengselsstraff.\n",
    "\n",
    "***Korriger programmet*** så det gjør riktige beslutninger på straffenivå for alle mulige verdier av promille."
   ]
  },
  {
   "cell_type": "code",
   "execution_count": null,
   "metadata": {},
   "outputs": [],
   "source": [
    "prom = float(input(\"Hvor stor var promillen? \"))\n",
    "if prom < 0.2:\n",
    "    print(\"Ikke straffbart, ingen bot.\")\n",
    "elif prom > 0.2:\n",
    "    print(\"Forelegg: 6000,-\")\n",
    "elif prom > 0.4:\n",
    "    print(\"Forelegg: 10000,-\")\n",
    "elif prom > 0.5:\n",
    "    print(\"Bot: en halv brutto månedslønn, samt fengsel.\")"
   ]
  },
  {
   "cell_type": "markdown",
   "metadata": {
    "deletable": false,
    "editable": false,
    "heading_collapsed": true,
    "run_control": {
     "frozen": true
    }
   },
   "source": [
    "#### Rekkefølge if-elif-setninger (hint oppgave c)"
   ]
  },
  {
   "cell_type": "markdown",
   "metadata": {
    "deletable": false,
    "editable": false,
    "hidden": true,
    "run_control": {
     "frozen": true
    }
   },
   "source": [
    "Ved bruk av if-elif-else er det avgjørende at betingelsene kommer i riktig rekkefølge. I Eksempel 1 under skal vi regne ut karakter fra poengscore på en eksamen (hvor toppscore er 100 og blank besvarelse gir 0 poeng). På grunn av feil rekkefølge på testene vil programmet ikke funke som det skal. Problemet er at den første testen, `score >= 0`, vil slå til for absolutt alle eksamenskandidater - og de andre betingelse etter `elif` vil dermed aldri bli evaluert. Alle kandidatene ender da med F."
   ]
  },
  {
   "cell_type": "code",
   "execution_count": null,
   "metadata": {
    "ExecuteTime": {
     "start_time": "2019-07-02T08:22:01.699Z"
    },
    "hidden": true
   },
   "outputs": [],
   "source": [
    "# EKSEMPEL 1 (HVOR VI MED VILJE HAR GJORT FEIL)\n",
    "score = int(input(\"Antall poeng: \"))\n",
    "  \n",
    "if score >= 0:\n",
    "    karakter = \"F\"\n",
    "elif score >= 41:\n",
    "    karakter = \"E\"\n",
    "elif score >= 53:\n",
    "    karakter = \"D\"\n",
    "elif score >= 65:\n",
    "    karakter = \"C\"\n",
    "elif score >= 77:\n",
    "    karakter = \"B\"\n",
    "elif score >= 89:\n",
    "    karakter = \"A\"\n",
    "  \n",
    "print(\"Du fikk\", karakter)"
   ]
  },
  {
   "cell_type": "markdown",
   "metadata": {
    "deletable": false,
    "editable": false,
    "hidden": true,
    "run_control": {
     "frozen": true
    }
   },
   "source": [
    "Setter vi derimot testene motsatt rekkefølge, som i Eks 2, vil det funke. Generelt er det viktig å sørge for at alle alternativene i en if-elif-else kan nås gitt en passende verdi. Her vil studenter med `score >= 89` få A mens de med lavere score vil bli fordelt videre nedover i if-elif-strukturen."
   ]
  },
  {
   "cell_type": "code",
   "execution_count": null,
   "metadata": {
    "hidden": true
   },
   "outputs": [],
   "source": [
    "# EKSEMPEL 2 (MED KORRIGERT REKKEFØLGE)\n",
    "score = int(input(\"Antall poeng: \"))\n",
    "   \n",
    "if score >= 89:\n",
    "    karakter = \"A\"\n",
    "elif score >= 77:\n",
    "    karakter = \"B\"\n",
    "elif score >= 65:\n",
    "    karakter = \"C\"\n",
    "elif score >= 53:\n",
    "    karakter = \"D\"\n",
    "elif score >= 41:\n",
    "    karakter = \"E\"\n",
    "else:\n",
    "    karakter = \"F\"\n",
    "  \n",
    "print(\"Du fikk\", karakter)"
   ]
  },
  {
   "cell_type": "markdown",
   "metadata": {
    "deletable": false,
    "editable": false,
    "run_control": {
     "frozen": true
    }
   },
   "source": [
    "## d) Feil i valg av overordnet struktur på if-setninger."
   ]
  },
  {
   "cell_type": "markdown",
   "metadata": {
    "deletable": false,
    "editable": false,
    "run_control": {
     "frozen": true
    }
   },
   "source": [
    "I den neste kodesnutten ser vi på et relatert problem, nemlig hvor lenge førerkortet skal inndras. Alt i alt er reglene som følger:\n",
    "- Førerkort skal inndras på livstid dersom det er gjentatt promillekjøring (dømt for det også tidligere), eller hvis man slo seg vrang og nektet og samarbeide ved legetesten, og dette skjer mindre enn 5 år etter en tidligere dom for promillekjøring. (Dvs., hvis man slår seg vrang ved legetesten, kan man få inndratt førerkortet selv om blodprøven deretter viser at promillen var under 0.2.)\n",
    "- For personer som **ikke** er tidligere dømt for promillekjøring, gjelder følgende:\n",
    "  - Hvis promillen var over 1.2, inndras førerkort for minst 2 år. Inndragelse for 2 år gis også hvis man slår seg vrang under legetesten - da uavhengig av hva promillen var.\n",
    "  - Promille i området 0.8-1.2 gir inndragning i 20-22 måneder.\n",
    "  - Promille 0.5-0.8 gir vanligvis 18 måneder.\n",
    "  - Promille 0.2-0.5 gir inntil 1 års inndragelse.\n",
    "\n",
    "Koden under skulle implementere disse reglene, men gjør feil i noen tilfeller. \n",
    "\n",
    "- Hvis det svares \"j\" på \"Tidligere dømt...\" sier programmet at førerkort skal inndras på livstid uansett hva det svares på de andre spørsmålene, dvs. også om promille var 0 og man oppførte seg pent ved legetesten.\n",
    "- Med f.eks. 1.4 eller 0.9 for promille (og \"n\" på tidligere dømt, \"n\" på nektet å samarbeide) vil programmet først skrive ut korrekt straffereaksjon, men vil deretter fortsette med å skrive ut også mildere straffereaksjoner. \n",
    "\n",
    "***Rett disse feilene så programmet gir riktig konklusjon på straffereaksjonen for alle mulige kombinasjoner av input-verdier.***"
   ]
  },
  {
   "cell_type": "code",
   "execution_count": null,
   "metadata": {},
   "outputs": [],
   "source": [
    "# leser inn data\n",
    "prom = float(input(\"Hvor stor var promillen? \"))\n",
    "nekt = input(\"Nektet å samarbeide ved legetest? (j/n) \")\n",
    "tidl = input(\"Tidligere dømt for promillekjøring? (j/n) \")\n",
    "if tidl == \"j\":\n",
    "    aar = int(input(\"Antall år siden siste domfellelse: \"))\n",
    "else:\n",
    "    aar = 999\n",
    "  \n",
    "# vurderer inndragning av førerkort\n",
    "if tidl == \"j\" or nekt == \"j\" and aar < 5:\n",
    "    print(\"Førerkort inndras for alltid.\")\n",
    "if prom > 1.2 or nekt == \"j\":\n",
    "    print(\"Førerkort inndras minst 2 år.\")\n",
    "if prom > 0.8:\n",
    "    print(\"Førerkort inndras 20-22 mnd.\")\n",
    "if prom > 0.5:\n",
    "    print(\"Førerkort inndras vanligvis 18 mnd.\")\n",
    "if prom > 0.2:\n",
    "    print(\"Førerkort inndras inntil 1 år.\")\n",
    "else:\n",
    "    print(\"Ingen inndragning av førerkort.\")"
   ]
  },
  {
   "cell_type": "markdown",
   "metadata": {
    "deletable": false,
    "editable": false,
    "heading_collapsed": true,
    "run_control": {
     "frozen": true
    }
   },
   "source": [
    "#### Feil valg av struktur for if-setninger (hint til oppg d)"
   ]
  },
  {
   "cell_type": "markdown",
   "metadata": {
    "deletable": false,
    "editable": false,
    "hidden": true,
    "run_control": {
     "frozen": true
    }
   },
   "source": [
    "Ofte skal vi ikke treffe bare én beslutning men flere forskjellige beslutninger i samme program. Dette tilsier bruk av flere if-setninger, og det er viktig å finne fram til en korrekt struktur for if-setningene. Her skal vi se på forskjellen mellom tre ulike situasjoner:\n",
    "\n",
    "1. beslutning med alternative handlinger som er gjensidig utelukkende: Bruk **if-else** (hvis 2 alternativer) eller **if-elif-else** (hvis 3 eller flere alternativer). \n",
    "2. flere beslutninger som er uavhengige av hverandre: **Bruk frittstående if-setninger**\n",
    "3. beslutninger som er avhengig av andre beslutninger, dvs. bare relevant å vurdere gitt et visst utfall av en tidligere beslutning: Kan løses ved **nøstede if-setninger**.\n",
    "\n",
    "Hvis man velger feil struktur på if-setningene, vil man få programmer som tar feil beslutninger."
   ]
  },
  {
   "cell_type": "markdown",
   "metadata": {
    "deletable": false,
    "editable": false,
    "hidden": true,
    "run_control": {
     "frozen": true
    }
   },
   "source": [
    "**Eksempel 1: Gjensidig utelukkende alternativer:**\n",
    "\n",
    "Omregning fra poengscore til karakter på en eksamen er eksempel på en beslutning med diverse gjensidig utelukkende konklusjoner - det skal gis A, B, C, D, E eller F ut fra poeng. Som vist i hint før oppgave c, løses dette typisk med en if-elif-struktur. Om man i stedet velger frittstående if-setninger, vil dette bli feil:"
   ]
  },
  {
   "cell_type": "code",
   "execution_count": null,
   "metadata": {
    "hidden": true
   },
   "outputs": [],
   "source": [
    "# EKSEMPEL HVOR VI MED VILJE HAR GJORT FEIL\n",
    "score = int(input(\"Antall poeng: \"))\n",
    "   \n",
    "if score >= 89:\n",
    "    karakter = \"A\"\n",
    "if score >= 77:\n",
    "    karakter = \"B\"\n",
    "if score >= 65:\n",
    "    karakter = \"C\"\n",
    "if score >= 53:\n",
    "    karakter = \"D\"\n",
    "if score >= 41:\n",
    "    karakter = \"E\"\n",
    "else:\n",
    "    karakter = \"F\"\n",
    "  \n",
    "print(\"Du fikk\", karakter)"
   ]
  },
  {
   "cell_type": "markdown",
   "metadata": {
    "deletable": false,
    "editable": false,
    "hidden": true,
    "run_control": {
     "frozen": true
    }
   },
   "source": [
    "Studenter med høy poengscore, f.eks. tilsvarende A eller B, vil i første omgang få tilordnet en riktig verdi for karakter ved at den tilsvarende if-setningen slår til. MEN: Siden hver setning begynner med `if`, er den uavhengig av forrige if-setning, så alle disse blir utført uavhengig av utfallet av forrige if-setning. Alle med høy score, vil jo også ha nok poeng til en dårligere karakter. Til slutt vil derfor alle studenter enten ende opp med E (hvis >=41 poeng) eller F (hvis < 41 poeng). Korreksjonen her er å bytte ut alle `if` unntatt den øverste med `elif` da blir alle de påfølgende testene kun utført hvis foregående tester har feilet, så en student som allerede har fått A vil ikke få denne overskrevet av en dårligere karakter.\n",
    "\n",
    "(Eksemplet kunne ha funket med frittstående if-setninger hvis testene inneholdt både øvre og nedre grense for score, f.eks. `89 > score >= 77` for B, `77 > score >= 65` for C, osv. Dette ville imidlertid ha vært en klart dårligere løsning enn if-elif-... både fordi betingelsene blir mer kompliserte å skrive, og fordi programmet kaster bort tid med å evaluere ekstra if-setninger hvis en av de tidlige betingelsene har slått til. En if-elif...-elif-else-struktur er vanligvis lettere å forstå fordi den klart får fram at det dreier seg om gjensidig ekskluderende alternativ.)"
   ]
  },
  {
   "cell_type": "markdown",
   "metadata": {
    "deletable": false,
    "editable": false,
    "hidden": true,
    "run_control": {
     "frozen": true
    }
   },
   "source": [
    "**Eksempel 2: To uavhengige beslutninger**\n",
    "\n",
    "Det neste eksemplet viser derimot et tilfelle hvor det er riktig å bruke frittstående if-setninger. Skal vi ta paraply eller ikke? Skal vi ta brodder eller ikke? Dette er to uavhengige beslutninger, den ene avhenger av regn, den andre om det er glatt. Hadde vi i stedet brukt if-elif her, ville programmet ikke ha virket som det skulle, da det kun ville ha vært i stand til å anbefale brodder i oppholdsvær (mens det jo kan være minst like glatt om det regner)."
   ]
  },
  {
   "cell_type": "code",
   "execution_count": null,
   "metadata": {
    "hidden": true
   },
   "outputs": [],
   "source": [
    "regn = float(input(\"Hvor mange mm regn er det meldt? \"))\n",
    "glatt = int(input(\"Hvor glatt er det, fra 0 (ikke) til 10 (blank is)? \"))\n",
    "if regn > 0.2:\n",
    "    print(\"Da anbefaler jeg paraply.\")\n",
    "if glatt > 8:\n",
    "    print(\"Da anbefaler jeg sko med brodder eller pigger.\")"
   ]
  },
  {
   "cell_type": "markdown",
   "metadata": {
    "deletable": false,
    "editable": false,
    "hidden": true,
    "run_control": {
     "frozen": true
    }
   },
   "source": [
    "Hvis vi her hadde skrevet `elif glatt > 8:` ville programmet kun ha vært i stand til å anbefale brodder hvis det ikke regnet, mens isen jo vil være minst like glatt hvis den i tillegg er våt.\n",
    "\n",
    "Et tvilstilfelle på hvilken struktur man bør velge, inntreffer hvis man har beslutninger som er delvis avhengige av hverandre, men også delvis uavhengige. La oss si at kriteriet for brodder var enten `glatt > 8` eller hvis det regner, `glatt > 7` (fordi man antar at det da vil kunne bli glattere underveis på spaserturen fordi isen blir våtere). Nedenstående viser to mulige løsninger på dette:"
   ]
  },
  {
   "cell_type": "code",
   "execution_count": null,
   "metadata": {
    "hidden": true
   },
   "outputs": [],
   "source": [
    "# ALTERNATIV 1: frittstående if-setninger\n",
    "regn = float(input(\"Hvor mange mm regn er det meldt? \"))\n",
    "glatt = int(input(\"Hvor glatt er det, fra 0 (ikke) til 10 (blank is)? \"))\n",
    "if regn > 0.2:\n",
    "    print(\"Da anbefaler jeg paraply.\")\n",
    "if glatt > 8 or regn > 0.2 and glatt > 7:\n",
    "    print(\"Da anbefaler jeg sko med brodder eller pigger.\")\n",
    "  \n",
    "# ALTERNATIV 2: nøstede if-setninger\n",
    "regn = float(input(\"Hvor mange mm regn er det meldt? \"))\n",
    "glatt = int(input(\"Hvor glatt er det, fra 0 (ikke) til 10 (blank is)? \"))\n",
    "if regn > 0.2:\n",
    "    print(\"Da anbefaler jeg paraply.\")\n",
    "    if glatt > 7:\n",
    "        print(\"Da anbefaler jeg sko med brodder eller pigger.\")\n",
    "elif glatt > 8:\n",
    "    print(\"Da anbefaler jeg sko med brodder eller pigger.\")"
   ]
  },
  {
   "cell_type": "markdown",
   "metadata": {
    "deletable": false,
    "editable": false,
    "hidden": true,
    "run_control": {
     "frozen": true
    }
   },
   "source": [
    "Her vil begge alternativer funke, hver har sine fordeler og ulemper. Ulempen med alt. 1 er at den gjentar betingelsen `regn > 0.2` to steder, som dermed tilsier at den også må evalueres to ganger i enkelte kjøringer av programmet. Forskjellen dette innebærer i tidsforbruk er imidlertid marginal. Ulempen med alternativ 2 er derimot at print-setningen om brodder forekommer to steder... det blir dermed litt vanskeligere å forstå programmet, mens det i alt. 1 fremgår klarere eksakt hvilken kombinasjon av betingelser som utløser hver konsekvens.\n",
    "\n",
    "I andre tilfeller kan en beslutning være avhengig av en annen, f.eks. kun være aktuell ved et visst utfall av en foregående if-setning:"
   ]
  },
  {
   "cell_type": "code",
   "execution_count": null,
   "metadata": {
    "hidden": true
   },
   "outputs": [],
   "source": [
    "regn = float(input(\"Hvor mange mm regn er det meldt? \"))\n",
    "vind = float(input(\"Hvor mange m/s vind er det meldt? \"))\n",
    "if regn > 0.2:\n",
    "    if vind < 7.0:\n",
    "        print(\"Da anbefaler jeg paraply.\")\n",
    "    else:\n",
    "        print(\"Anbefaler regntøy, for mye vind for paraply.\")"
   ]
  },
  {
   "cell_type": "markdown",
   "metadata": {
    "deletable": false,
    "editable": false,
    "hidden": true,
    "run_control": {
     "frozen": true
    }
   },
   "source": [
    "Her ville if `regn > 0.2: .....elif vind < 7.0` ha blitt feil. Programmet ville da ha gjort vurderinger av vinden kun hvis det ikke regnet, og dermed ha vært ute av stand til å fraråde paraply hvis det regner og samtidig blåser kraftig.\n",
    "\n",
    "Oppsummert:\n",
    "\n",
    "- flere helt uavhengige beslutninger: bruk frittstående if-setninger\n",
    "- beslutning med gjensidig utelukkende handlingsalternativer: bruk if-else (2 alternativer) eller if-elif-else (3 eller flere alternativer)\n",
    "- beslutninger relatert på annen måte, f.eks. at en betingelse (som `vind < 7.0 ovenfor`) kun er aktuell gitt et visst utfall av en annen betingelse: kan løses ved å nøste flere if-setninger inni hverandre"
   ]
  },
  {
   "cell_type": "markdown",
   "metadata": {
    "deletable": false,
    "editable": false,
    "run_control": {
     "frozen": true
    }
   },
   "source": [
    "## e) FRIVILLIG EKSTRAOPPGAVE"
   ]
  },
  {
   "cell_type": "markdown",
   "metadata": {
    "deletable": false,
    "editable": false,
    "run_control": {
     "frozen": true
    }
   },
   "source": [
    "Det er ikke nødvendig å gjøre denne for å få godkjent deloppgaven \"Forbrytelse og straff\". ***Ta utgangspunkt i nedenstående kode med input-setninger. Bruk deretter det du har laget i tidligere deloppgaver a-d for å sette sammen et komplett program som både gir riktig konklusjon på bot og på inndragelse av førerkort***. Husk som nevnt tidligere at det er mulig å få inndratt førerkortet selv i tilfeller hvor man ikke får noen bot for promillekjøring, nemlig hvis man slår seg vrang i forbindelse med legetesten."
   ]
  },
  {
   "cell_type": "code",
   "execution_count": null,
   "metadata": {},
   "outputs": [],
   "source": [
    "# leser inn data\n",
    "prom = float(input(\"Hvor stor var promillen? \"))\n",
    "motor = input(\"Var farkosten en motorvogn? (j/n) \")\n",
    "f = input(\"Var personen fører av vognen? (j/n) \")\n",
    "leds = input(\"Var personen ledsager ved øvekjøring? (j/n) \")\n",
    "n = input(\"Var det nødrett? (j/n) \")\n",
    "nekt = input(\"Nektet å samarbeide ved legetest? (j/n) \")\n",
    "tidl = input(\"Tidligere dømt for promillekjøring? (j/n) \")\n",
    "if tidl == \"j\":\n",
    "    aar = int(input(\"Antall år siden siste domfellelse: \"))\n",
    "  \n",
    "# legg til din kode nedenfor her:"
   ]
  }
 ],
 "metadata": {
  "kernelspec": {
   "display_name": "Python 3",
   "language": "python",
   "name": "python3"
  },
  "language_info": {
   "codemirror_mode": {
    "name": "ipython",
    "version": 3
   },
   "file_extension": ".py",
   "mimetype": "text/x-python",
   "name": "python",
   "nbconvert_exporter": "python",
   "pygments_lexer": "ipython3",
   "version": "3.9.2"
  },
  "toc": {
   "base_numbering": 1,
   "nav_menu": {},
   "number_sections": false,
   "sideBar": true,
   "skip_h1_title": false,
   "title_cell": "Table of Contents",
   "title_sidebar": "Contents",
   "toc_cell": false,
   "toc_position": {},
   "toc_section_display": true,
   "toc_window_display": false
  }
 },
 "nbformat": 4,
 "nbformat_minor": 2
}
