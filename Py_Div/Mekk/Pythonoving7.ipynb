{
 "cells": [
  {
   "cell_type": "markdown",
   "metadata": {
    "deletable": false,
    "editable": false
   },
   "source": [
    "__<p style=\"font-size:180%;\"> Pythonøving 7 - TKT4118/MEKT1101 Mekanikk 1</p>__\n",
    "\n",
    "__Strekktest og DIC__\n",
    "\n",
    "****\n",
    "\n",
    "I denne oppgaven skal vi bestemme elastisitetsmodulen $E$ og tverrkontraksjonstallet $\\nu$ fra testdata fra en strekktest utført på plastmaterialet HDPE (polyetylen med høy densitet). Dette er et meget duktilt plastmateriale.\n",
    "Prøvestykket er flatt, og geometrien er vist i figuren under. Fra figuren kan dere finne tverrsnittsarealet $A_0$ i det smale området av prøvestykket, som ofte er kalt parallell-området. I den aktuelle testen ble tøyningene målt med en optisk metode: Før forsøket ble overflaten først sprayet hvit, og deretter påført en lett «dusj» med svart spray for danne et prikkemønster. Under forsøket ble det tatt digitale bilder med frekvens 1 Hz. \n",
    "\n",
    "Etterpå ble\n",
    "bildene analysert med en DIC-programvare (DIC = Digital Image Correlation) som evaluerer\n",
    "hvordan prikkene deformeres og forskyver seg fra bilde til bilde. Fra denne informasjonen kan\n",
    "programmet bestemme både lengdetøyning $\\varepsilon_L$ og tverrtøyning $\\varepsilon_T$ .\n",
    "\n",
    "***\n",
    "\n",
    "## Noen forberedelser\n",
    "\n",
    "\n",
    "Figurene under viser prøvestykkegeometrien og det malte prøvestykket under strekktesten.\n",
    "<img width=\"800\" src=\"http://folk.ntnu.no/einasc/TKT4116/Oving7/oving07Geometri.png\"> \n",
    "<img width=\"800\" src=\"http://folk.ntnu.no/einasc/TKT4116/Oving7/oving07DIC.png\"> \n",
    "\n",
    "***\n",
    "\n",
    "Måledataen leses fra tekstfilen \\textit{testdata_HDPE.txt}. Filen inneholder data fra både testriggen (tid og kraft) og DIC-analysen (lengdetøyning og tverrtøyning). \n",
    "\n",
    "| tid [s] | Lengdetøning [-]  |  tverrtøyning [-] | Kraft [N]   | \n",
    "|-------|------|-------|------|\n",
    "|0|\t0.000000|\t0.000000|\t0.00|\n",
    "|1|\t0.000734|\t-0.000257|\t25.53|\n",
    "|2|\t0.001403|\t-0.000679|\t60.07|\n",
    "|3|\t0.002118|\t-0.000931|\t97.42|\n",
    "|4|\t0.003643|\t-0.001510|\t169.37|\n",
    "|...|\t...|\t...|\t...|\n",
    "|...|\t...|\t...|\t...|\n",
    "\n",
    "<div class=\"alert alert-success\">\n",
    "\n",
    "Første oppgave er å lese inn og plotte resultatene fra testen. Legg merke til at dette materialet oppfører seg veldig annerledes fra metaller!\n",
    "\n",
    "* Definer funksjonsbibliotek.\n",
    "* Les tekstfilen fra serveren:\"testdata_HDPE.txt\".  \n",
    "* Fordel de ulike kolonnene til egne variabler, e.g. tid = ..., lengdetøyning = ...\n",
    "* Plot kraft, lengdetøyning og tverrtøyning mot tid i tre separate figurer.\n",
    "***\n",
    "</div>"
   ]
  },
  {
   "cell_type": "code",
   "execution_count": null,
   "metadata": {
    "ExecuteTime": {
     "end_time": "2019-02-22T15:55:59.687000Z",
     "start_time": "2019-02-22T15:55:59.642000Z"
    },
    "hide_input": false
   },
   "outputs": [
    {
     "ename": "",
     "evalue": "",
     "output_type": "error",
     "traceback": [
      "\u001b[1;31mRunning cells with 'c:\\Users\\Eirik Mathias\\AppData\\Local\\Microsoft\\WindowsApps\\python3.10.exe' requires the ipykernel package.\n",
      "\u001b[1;31mRun the following command to install 'ipykernel' into the Python environment. \n",
      "\u001b[1;31mCommand: '\"c:/Users/Eirik Mathias/AppData/Local/Microsoft/WindowsApps/python3.10.exe\" -m pip install ipykernel -U --user --force-reinstall'"
     ]
    }
   ],
   "source": [
    "import numpy as np\n",
    "import matplotlib.pyplot as plt\n",
    "\n",
    "test_data = np.genfromtxt(\"testdata_HDPE(2).txt\")\n",
    "\n",
    "tid = test_data[:,0]\n",
    "lengdetøyning = test_data[:,1]\n",
    "tverrtøyning = test_data[:,2]\n",
    "kraft = test_data[:,3]\n",
    "\n",
    "plt.plot(tid, kraft, \"r-\", label = \"Kraft [N]\")\n",
    "plt.xlabel(\"Tid [s]\")\n",
    "plt.ylabel(\"kraft [N]\")\n",
    "plt.title(\"kraft\")\n",
    "plt.legend()\n",
    "plt.show()\n",
    "\n",
    "plt.plot(tid, lengdetøyning, \"b-\", label = \"Lengdetøyning [-]\")\n",
    "plt.xlabel(\"Tid [s]\")\n",
    "plt.ylabel(\"Lengdetøyning [-]\")\n",
    "plt.title(\"Lengdetøyning\")\n",
    "plt.legend()\n",
    "plt.show()\n",
    "\n",
    "plt.plot(tid, tverrtøyning, \"g-\", label = \"Tverrtøyning [-]\")\n",
    "plt.xlabel(\"Tid [s]\")\n",
    "plt.ylabel(\"Tverrtøyning [-]\")\n",
    "plt.title(\"Tverrtøyningtøyning\")\n",
    "plt.legend()\n",
    "plt.show()\n",
    "\n",
    "\n"
   ]
  },
  {
   "cell_type": "code",
   "execution_count": null,
   "metadata": {
    "ExecuteTime": {
     "end_time": "2019-02-22T15:56:00.240000Z",
     "start_time": "2019-02-22T15:55:59.693000Z"
    }
   },
   "outputs": [
    {
     "ename": "",
     "evalue": "",
     "output_type": "error",
     "traceback": [
      "\u001b[1;31mRunning cells with 'c:\\Users\\Eirik Mathias\\AppData\\Local\\Microsoft\\WindowsApps\\python3.10.exe' requires the ipykernel package.\n",
      "\u001b[1;31mRun the following command to install 'ipykernel' into the Python environment. \n",
      "\u001b[1;31mCommand: '\"c:/Users/Eirik Mathias/AppData/Local/Microsoft/WindowsApps/python3.10.exe\" -m pip install ipykernel -U --user --force-reinstall'"
     ]
    }
   ],
   "source": []
  },
  {
   "cell_type": "markdown",
   "metadata": {
    "solution2": "hidden",
    "solution2_first": true
   },
   "source": [
    "Trykk for hjelp med å lese inn teksfilen."
   ]
  },
  {
   "cell_type": "code",
   "execution_count": null,
   "metadata": {
    "ExecuteTime": {
     "end_time": "2021-03-07T07:17:05.298386Z",
     "start_time": "2021-03-07T07:17:05.000932Z"
    },
    "deletable": false,
    "editable": false,
    "solution2": "hidden"
   },
   "outputs": [
    {
     "ename": "",
     "evalue": "",
     "output_type": "error",
     "traceback": [
      "\u001b[1;31mRunning cells with 'c:\\Users\\Eirik Mathias\\AppData\\Local\\Microsoft\\WindowsApps\\python3.10.exe' requires the ipykernel package.\n",
      "\u001b[1;31mRun the following command to install 'ipykernel' into the Python environment. \n",
      "\u001b[1;31mCommand: '\"c:/Users/Eirik Mathias/AppData/Local/Microsoft/WindowsApps/python3.10.exe\" -m pip install ipykernel -U --user --force-reinstall'"
     ]
    }
   ],
   "source": []
  },
  {
   "cell_type": "markdown",
   "metadata": {
    "deletable": false,
    "editable": false
   },
   "source": [
    "***\n",
    "## Spenning og tøyning\n",
    "I dette faget har dere lært at (nominell) spenning er kraften i et tverrsnitt, delt på arealet det har før prøvestykket blir deformert:\n",
    "\n",
    "\\begin{equation*}\n",
    "\\sigma = \\frac{F}{A_0}\n",
    "\\end{equation*}\n",
    "\n",
    "<div class=\"alert alert-success\">\n",
    "\n",
    "\n",
    "Ettersom formålet med testdataene er å bestemme E-modul og tverrtøyning bør vi plotte dataene en mer hensiktsmessig form.\n",
    "\n",
    "* Regn ut og plot spenningen mot lengdetøyningen.\n",
    "* Plot tverrtøyning mot lengdetøyning.\n",
    "\n",
    "***\n",
    "</div>"
   ]
  },
  {
   "cell_type": "code",
   "execution_count": null,
   "metadata": {
    "ExecuteTime": {
     "end_time": "2019-02-22T15:56:00.634000Z",
     "start_time": "2019-02-22T15:56:00.247000Z"
    }
   },
   "outputs": [
    {
     "ename": "",
     "evalue": "",
     "output_type": "error",
     "traceback": [
      "\u001b[1;31mRunning cells with 'c:\\Users\\Eirik Mathias\\AppData\\Local\\Microsoft\\WindowsApps\\python3.10.exe' requires the ipykernel package.\n",
      "\u001b[1;31mRun the following command to install 'ipykernel' into the Python environment. \n",
      "\u001b[1;31mCommand: '\"c:/Users/Eirik Mathias/AppData/Local/Microsoft/WindowsApps/python3.10.exe\" -m pip install ipykernel -U --user --force-reinstall'"
     ]
    }
   ],
   "source": [
    "A_0 = 12 * 5\n",
    "spenning = kraft / A_0\n",
    "\n",
    "plt.plot(lengdetøyning, spenning, \"r-\", label = \"Spenning mot lengdetøyning\")\n",
    "plt.xlabel(\"Lengdetøyning[-]\")\n",
    "plt.ylabel(\"Spenning [MPa]\")\n",
    "plt.title(\"Spenning mot lengdetøyning\")\n",
    "plt.legend()\n",
    "plt.show()\n",
    "\n",
    "plt.plot(lengdetøyning, tverrtøyning, \"b-\", label = \"tverrtøyning mot lengdetøyning\")\n",
    "plt.xlabel(\"Lengdetøyning[-]\")\n",
    "plt.ylabel(\"Tverrtøyning [-]\")\n",
    "plt.title(\"Tverrtøyning mot lengdetøyning\")\n",
    "plt.legend()\n",
    "plt.show()\n"
   ]
  },
  {
   "cell_type": "markdown",
   "metadata": {
    "ExecuteTime": {
     "end_time": "2019-02-21T14:18:32.223000Z",
     "start_time": "2019-02-21T14:18:32.185000Z"
    },
    "deletable": false,
    "editable": false
   },
   "source": [
    "***\n",
    "\n",
    "## Elastisitetsmodul og tverrkontraksjonstall\n",
    "\n",
    "Forholdet mellom spenning og lengdetøyning under lineær elastisk materialoppførsel er kjent som materialets elastisitetsmodul, $E$. Materialer oppfører seg sjeldent slik at det elastisk området er helt lineært, men ofte er det en god tilnærming.\n",
    "\n",
    "\\begin{equation*}\n",
    "    E = \\frac{\\sigma}{\\varepsilon_L}\n",
    "\\end{equation*}\n",
    "\n",
    "Innenfor det elastiske området er det ofte tilsvarende et konstant forhold mellom lengdetøyning og tverrtøyning. Dette forholdet kalles tverrkontraksjonstallet $\\nu$. \n",
    "\n",
    "\\begin{equation*}\n",
    "    \\nu = -\\frac{\\varepsilon_T}{\\varepsilon_L}\n",
    "\\end{equation*}\n",
    "\n",
    "\n",
    "<div class=\"alert alert-success\">\n",
    "\n",
    "\n",
    "HDPE er som sagt et meget duktilt materiale, og så å si hele deformasjonsforløpet er plastisk. I mekanikk 1 begrenser vi oss til elastisk materialoppførsel, noe som vil si at vi bare skal fokusere på starten av testen, hvor det er en lineær (rettlinjet) sammenheng mellom $\\sigma$ og $\\varepsilon_L$. \n",
    "\n",
    "Ufør en lineær regresjon i det elastiske området for begge kurvene plottet i oppgave 2 (spenning-tøyning, tverrtøyning-lengdetøyning), og bruk resultatet til å finne elastisitetsmodul og tverrkontraksjonstallet.\n",
    "\n",
    "Nyttige deloppgaver er:\n",
    "* Lag nye plott som «zoomer» inn på den første delen av testen. Påvis at det elastiske området slutter ved en spenning på ca 11 MPa.\n",
    "\n",
    "* Finn indeksen i testdataene som tilsvarer slutten på det elastiske området. \n",
    "\n",
    "* Utfør lineær regresjon i det elastiske området for begge kurver fra oppgave 2. Dette kan gjøres med samme metodikk som ble brukt i Pythonøving 5. Her er det derimot snakk om et førstegradspolynom som skal tilpasses. \n",
    "\n",
    "* Bestem elastisitetsmodul og tverrkontraksjonstall fra helningene til førstegradspolynomene.  \n",
    "\n",
    "* Plot de lineære regresjonene sammen med plottene for spenning-tøyning, og tverrtøyning-lengdetøyning. \n",
    "\n",
    "Bruk 'print()' for å skive ut tallsvarene.\n",
    "\n",
    "<br>\n",
    "\n",
    "\n",
    "Bruk for eksempel den første kodecellen til beregninger, og den andre for plotting:\n",
    "\n",
    "***\n",
    "</div>"
   ]
  },
  {
   "cell_type": "code",
   "execution_count": null,
   "metadata": {
    "ExecuteTime": {
     "end_time": "2019-02-22T16:39:58.171000Z",
     "start_time": "2019-02-22T16:39:58.073000Z"
    }
   },
   "outputs": [
    {
     "ename": "",
     "evalue": "",
     "output_type": "error",
     "traceback": [
      "\u001b[1;31mRunning cells with 'c:\\Users\\Eirik Mathias\\AppData\\Local\\Microsoft\\WindowsApps\\python3.10.exe' requires the ipykernel package.\n",
      "\u001b[1;31mRun the following command to install 'ipykernel' into the Python environment. \n",
      "\u001b[1;31mCommand: '\"c:/Users/Eirik Mathias/AppData/Local/Microsoft/WindowsApps/python3.10.exe\" -m pip install ipykernel -U --user --force-reinstall'"
     ]
    }
   ],
   "source": [
    "indeks = np.argmax(spenning>=11)\n",
    "\n",
    "\n",
    "elastisk_lengde = lengdetøyning[0:indeks]\n",
    "elastisk_tverr = lengdetøyning[0:indeks]\n",
    "elastisk_spenning = lengdetøyning[0:indeks]\n",
    "\n",
    "koeff_E = np.polyfit(elastisk_lengde, elastisk_spenning,1)\n",
    "koeff_tverrkontraksjon = np.polyfit(elastisk_lengde,elastisk_tverr,1)\n",
    "\n",
    "E_modul_funksjon = np.polyval(koeff_E , elastisk_lengde)\n",
    "tverrkontrasksjon_funksjon = np.polyval(koeff_tverrkontraksjon, elastisk_tverr)\n",
    "\n",
    "stigningstall = koeff_E[0]\n",
    "\n",
    "E_modul = koeff_E[0]\n",
    "tverrkontraksjonstall = koeff_tverrkontraksjon[0]\n",
    "\n",
    "print(\"elastisitetsmodulen er\" ,round(E_modul,2), \"MPa\" )\n",
    "print(\"tverrkontraksjontallet er\" ,round(tverrkontraksjonstall,2) )\n",
    "\n",
    "\n",
    "\n",
    "\n"
   ]
  },
  {
   "cell_type": "markdown",
   "metadata": {
    "deletable": false,
    "editable": false,
    "run_control": {
     "frozen": true
    },
    "solution2": "hidden",
    "solution2_first": true
   },
   "source": [
    "Trykk for noen hint:"
   ]
  },
  {
   "cell_type": "code",
   "execution_count": null,
   "metadata": {
    "ExecuteTime": {
     "end_time": "2019-02-22T16:39:59.922000Z",
     "start_time": "2019-02-22T16:39:59.904000Z"
    },
    "deletable": false,
    "editable": false,
    "solution2": "hidden"
   },
   "outputs": [
    {
     "ename": "",
     "evalue": "",
     "output_type": "error",
     "traceback": [
      "\u001b[1;31mRunning cells with 'c:\\Users\\Eirik Mathias\\AppData\\Local\\Microsoft\\WindowsApps\\python3.10.exe' requires the ipykernel package.\n",
      "\u001b[1;31mRun the following command to install 'ipykernel' into the Python environment. \n",
      "\u001b[1;31mCommand: '\"c:/Users/Eirik Mathias/AppData/Local/Microsoft/WindowsApps/python3.10.exe\" -m pip install ipykernel -U --user --force-reinstall'"
     ]
    }
   ],
   "source": [
    "# Eksempel på hvordan man kan finne første indeks i et array hvor tilhørende verdi er større enn eller lik et tall feks. 2:\n",
    "eksempel_array = np.array([0.0,1.0,2.0,3.0,4.0])\n",
    "indeks = np.argmax(eksempel_array>=2.0)\n",
    "print(indeks)"
   ]
  },
  {
   "cell_type": "markdown",
   "metadata": {
    "deletable": false,
    "editable": false,
    "run_control": {
     "frozen": true
    },
    "solution2": "hidden"
   },
   "source": [
    "\\underline{Repitisjon fra Pythonøving 5:} En kan bruke funksjonen `koeff = np.polyfit(x,y,polynomorden)` for å tilpasse et polynom til et datasett, hvor \\textit{koeff} inneholder polynomets tilpassede koeffisienter. Et førstegrads polynom er på formen $y(x)= koeff[0] + koeff[1] \\cdot x$, hvor koeff[0] er kurvens helning (feks. E-modul eller tverrkontraksjonstall). \n",
    "\n",
    "Videre kan `np.polyval(koeff, x)` brukes for å evaluere polynomet ved ønskede x-verdier. Det kan gjøre plottingen lettere. \n",
    "\n",
    "***"
   ]
  },
  {
   "cell_type": "code",
   "execution_count": null,
   "metadata": {
    "ExecuteTime": {
     "end_time": "2019-02-22T15:58:43.404000Z",
     "start_time": "2019-02-22T15:58:42.975000Z"
    }
   },
   "outputs": [
    {
     "ename": "",
     "evalue": "",
     "output_type": "error",
     "traceback": [
      "\u001b[1;31mRunning cells with 'c:\\Users\\Eirik Mathias\\AppData\\Local\\Microsoft\\WindowsApps\\python3.10.exe' requires the ipykernel package.\n",
      "\u001b[1;31mRun the following command to install 'ipykernel' into the Python environment. \n",
      "\u001b[1;31mCommand: '\"c:/Users/Eirik Mathias/AppData/Local/Microsoft/WindowsApps/python3.10.exe\" -m pip install ipykernel -U --user --force-reinstall'"
     ]
    }
   ],
   "source": []
  },
  {
   "cell_type": "markdown",
   "metadata": {
    "deletable": false,
    "editable": false,
    "run_control": {
     "frozen": true
    },
    "solution2": "hidden",
    "solution2_first": true
   },
   "source": [
    "Trykk for et plotte-tips:"
   ]
  },
  {
   "cell_type": "markdown",
   "metadata": {
    "deletable": false,
    "editable": false,
    "run_control": {
     "frozen": true
    },
    "solution2": "hidden"
   },
   "source": [
    "Et nyttig triks for å zoome på kurven er å bruke `plt.xlim(\"minimumverdi\",\"maksverdi\")`, og tilsvarende for y-aksen, for å se et mindre utsnitt av figuren."
   ]
  },
  {
   "cell_type": "markdown",
   "metadata": {
    "deletable": false,
    "editable": false,
    "run_control": {
     "frozen": true
    }
   },
   "source": [
    "***"
   ]
  }
 ],
 "metadata": {
  "hide_input": false,
  "kernelspec": {
   "display_name": "Python 3 (ipykernel)",
   "language": "python",
   "name": "python3"
  },
  "language_info": {
   "codemirror_mode": {
    "name": "ipython",
    "version": 3
   },
   "file_extension": ".py",
   "mimetype": "text/x-python",
   "name": "python",
   "nbconvert_exporter": "python",
   "pygments_lexer": "ipython3",
   "version": "3.10.11"
  },
  "latex_envs": {
   "LaTeX_envs_menu_present": true,
   "autoclose": false,
   "autocomplete": true,
   "bibliofile": "biblio.bib",
   "cite_by": "apalike",
   "current_citInitial": 1,
   "eqLabelWithNumbers": true,
   "eqNumInitial": 1,
   "hotkeys": {
    "equation": "Ctrl-E",
    "itemize": "Ctrl-I"
   },
   "labels_anchors": false,
   "latex_user_defs": false,
   "report_style_numbering": false,
   "user_envs_cfg": false
  },
  "toc": {
   "base_numbering": 1,
   "nav_menu": {},
   "number_sections": true,
   "sideBar": true,
   "skip_h1_title": false,
   "title_cell": "Table of Contents",
   "title_sidebar": "Contents",
   "toc_cell": false,
   "toc_position": {},
   "toc_section_display": true,
   "toc_window_display": false
  }
 },
 "nbformat": 4,
 "nbformat_minor": 2
}
